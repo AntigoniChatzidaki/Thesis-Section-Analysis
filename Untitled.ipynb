{
 "cells": [
  {
   "cell_type": "code",
   "execution_count": 22,
   "metadata": {
    "scrolled": false
   },
   "outputs": [],
   "source": [
    "import seaborn as sns\n",
    "import matplotlib.pyplot as plt\n",
    "sns.set_style()\n",
    "\n",
    "from Materials import Material, Concrete\n",
    "from Sections import Rectangular, Section, HollowRectangular"
   ]
  },
  {
   "cell_type": "code",
   "execution_count": 23,
   "metadata": {
    "scrolled": true
   },
   "outputs": [],
   "source": [
    "frp = Material('FRP', 600e6, 80e9, 'black')\n",
    "concrete = Concrete('Concrete', 37e9, 50e6, 'gray', confined=False, frp=frp)\n",
    "steel = Material('Steel', 190e9, 450e6, 'blue')\n",
    "\n",
    "test_concrete_section = HollowRectangular(concrete, 0.600, 0.600, 0.34, 0.34, 0.130)\n",
    "test_concrete_section.add_reinforcements(steel, 0.02, [(0.065,0.065) , (0.535,0.065) , (0.065,0.535) , (0.535,0.535) , (0.1825,0.065) , (0.065,0.1825) , (0.535,0.1825) , (0.1825,0.535) , (0.3,0.065) , (0.065,0.3) , (0.3,0.535) , (0.535,0.3) , (0.4175,0.065) , (0.065,0.4175) , (0.4175,0.535) , (0.535,0.4175)\n",
    "])\n",
    "# test_concrete_section = Rectangular(concrete, 0.600, 0.600)\n",
    "# test_concrete_section.add_reinforcements(steel, 0.025, [(0.065,0.065) , (0.535,0.065) , (0.065,0.535) , (0.535,0.535) , (0.221666666666667,0.065) , (0.065,0.221666666666667) , (0.535,0.221666666666667) , (0.221666666666667,0.535) , (0.378333333333333,0.065) , (0.065,0.378333333333333) , (0.378333333333333,0.535) , (0.535,0.378333333333333)])\n"
   ]
  },
  {
   "cell_type": "code",
   "execution_count": 28,
   "metadata": {
    "scrolled": true
   },
   "outputs": [
    {
     "name": "stdout",
     "output_type": "stream",
     "text": [
      "Neutral axis: -2.2060445620972464e-06\n"
     ]
    },
    {
     "data": {
      "text/html": [
       "<div>\n",
       "<style scoped>\n",
       "    .dataframe tbody tr th:only-of-type {\n",
       "        vertical-align: middle;\n",
       "    }\n",
       "\n",
       "    .dataframe tbody tr th {\n",
       "        vertical-align: top;\n",
       "    }\n",
       "\n",
       "    .dataframe thead th {\n",
       "        text-align: right;\n",
       "    }\n",
       "</style>\n",
       "<table border=\"1\" class=\"dataframe\">\n",
       "  <thead>\n",
       "    <tr style=\"text-align: right;\">\n",
       "      <th></th>\n",
       "      <th>height</th>\n",
       "      <th>mid_height</th>\n",
       "      <th>Concrete_area</th>\n",
       "      <th>Steel_area</th>\n",
       "      <th>strain</th>\n",
       "      <th>steel_stress</th>\n",
       "      <th>concrete_stress</th>\n",
       "      <th>steel_force</th>\n",
       "      <th>concrete_force</th>\n",
       "      <th>total_force</th>\n",
       "      <th>total_moment</th>\n",
       "    </tr>\n",
       "  </thead>\n",
       "  <tbody>\n",
       "    <tr>\n",
       "      <th>0</th>\n",
       "      <td>0.0005</td>\n",
       "      <td>0.00025</td>\n",
       "      <td>0.0003</td>\n",
       "      <td>0.0</td>\n",
       "      <td>0.228650</td>\n",
       "      <td>0.0</td>\n",
       "      <td>0</td>\n",
       "      <td>0.0</td>\n",
       "      <td>0.0</td>\n",
       "      <td>0.0</td>\n",
       "      <td>-0.0</td>\n",
       "    </tr>\n",
       "    <tr>\n",
       "      <th>1</th>\n",
       "      <td>0.0010</td>\n",
       "      <td>0.00075</td>\n",
       "      <td>0.0003</td>\n",
       "      <td>0.0</td>\n",
       "      <td>0.681950</td>\n",
       "      <td>0.0</td>\n",
       "      <td>0</td>\n",
       "      <td>0.0</td>\n",
       "      <td>0.0</td>\n",
       "      <td>0.0</td>\n",
       "      <td>-0.0</td>\n",
       "    </tr>\n",
       "    <tr>\n",
       "      <th>2</th>\n",
       "      <td>0.0015</td>\n",
       "      <td>0.00125</td>\n",
       "      <td>0.0003</td>\n",
       "      <td>0.0</td>\n",
       "      <td>1.135251</td>\n",
       "      <td>0.0</td>\n",
       "      <td>0</td>\n",
       "      <td>0.0</td>\n",
       "      <td>0.0</td>\n",
       "      <td>0.0</td>\n",
       "      <td>-0.0</td>\n",
       "    </tr>\n",
       "    <tr>\n",
       "      <th>3</th>\n",
       "      <td>0.0020</td>\n",
       "      <td>0.00175</td>\n",
       "      <td>0.0003</td>\n",
       "      <td>0.0</td>\n",
       "      <td>1.588551</td>\n",
       "      <td>0.0</td>\n",
       "      <td>0</td>\n",
       "      <td>0.0</td>\n",
       "      <td>0.0</td>\n",
       "      <td>0.0</td>\n",
       "      <td>-0.0</td>\n",
       "    </tr>\n",
       "    <tr>\n",
       "      <th>4</th>\n",
       "      <td>0.0025</td>\n",
       "      <td>0.00225</td>\n",
       "      <td>0.0003</td>\n",
       "      <td>0.0</td>\n",
       "      <td>2.041851</td>\n",
       "      <td>0.0</td>\n",
       "      <td>0</td>\n",
       "      <td>0.0</td>\n",
       "      <td>0.0</td>\n",
       "      <td>0.0</td>\n",
       "      <td>-0.0</td>\n",
       "    </tr>\n",
       "    <tr>\n",
       "      <th>...</th>\n",
       "      <td>...</td>\n",
       "      <td>...</td>\n",
       "      <td>...</td>\n",
       "      <td>...</td>\n",
       "      <td>...</td>\n",
       "      <td>...</td>\n",
       "      <td>...</td>\n",
       "      <td>...</td>\n",
       "      <td>...</td>\n",
       "      <td>...</td>\n",
       "      <td>...</td>\n",
       "    </tr>\n",
       "    <tr>\n",
       "      <th>1194</th>\n",
       "      <td>0.5975</td>\n",
       "      <td>0.59725</td>\n",
       "      <td>0.0003</td>\n",
       "      <td>0.0</td>\n",
       "      <td>541.469165</td>\n",
       "      <td>0.0</td>\n",
       "      <td>0</td>\n",
       "      <td>0.0</td>\n",
       "      <td>0.0</td>\n",
       "      <td>0.0</td>\n",
       "      <td>-0.0</td>\n",
       "    </tr>\n",
       "    <tr>\n",
       "      <th>1195</th>\n",
       "      <td>0.5980</td>\n",
       "      <td>0.59775</td>\n",
       "      <td>0.0003</td>\n",
       "      <td>0.0</td>\n",
       "      <td>541.922466</td>\n",
       "      <td>0.0</td>\n",
       "      <td>0</td>\n",
       "      <td>0.0</td>\n",
       "      <td>0.0</td>\n",
       "      <td>0.0</td>\n",
       "      <td>-0.0</td>\n",
       "    </tr>\n",
       "    <tr>\n",
       "      <th>1196</th>\n",
       "      <td>0.5985</td>\n",
       "      <td>0.59825</td>\n",
       "      <td>0.0003</td>\n",
       "      <td>0.0</td>\n",
       "      <td>542.375766</td>\n",
       "      <td>0.0</td>\n",
       "      <td>0</td>\n",
       "      <td>0.0</td>\n",
       "      <td>0.0</td>\n",
       "      <td>0.0</td>\n",
       "      <td>-0.0</td>\n",
       "    </tr>\n",
       "    <tr>\n",
       "      <th>1197</th>\n",
       "      <td>0.5990</td>\n",
       "      <td>0.59875</td>\n",
       "      <td>0.0003</td>\n",
       "      <td>0.0</td>\n",
       "      <td>542.829066</td>\n",
       "      <td>0.0</td>\n",
       "      <td>0</td>\n",
       "      <td>0.0</td>\n",
       "      <td>0.0</td>\n",
       "      <td>0.0</td>\n",
       "      <td>-0.0</td>\n",
       "    </tr>\n",
       "    <tr>\n",
       "      <th>1198</th>\n",
       "      <td>0.5995</td>\n",
       "      <td>0.59925</td>\n",
       "      <td>0.0003</td>\n",
       "      <td>0.0</td>\n",
       "      <td>543.282366</td>\n",
       "      <td>0.0</td>\n",
       "      <td>0</td>\n",
       "      <td>0.0</td>\n",
       "      <td>0.0</td>\n",
       "      <td>0.0</td>\n",
       "      <td>-0.0</td>\n",
       "    </tr>\n",
       "  </tbody>\n",
       "</table>\n",
       "<p>1199 rows × 11 columns</p>\n",
       "</div>"
      ],
      "text/plain": [
       "      height  mid_height  Concrete_area  Steel_area      strain  steel_stress  \\\n",
       "0     0.0005     0.00025         0.0003         0.0    0.228650           0.0   \n",
       "1     0.0010     0.00075         0.0003         0.0    0.681950           0.0   \n",
       "2     0.0015     0.00125         0.0003         0.0    1.135251           0.0   \n",
       "3     0.0020     0.00175         0.0003         0.0    1.588551           0.0   \n",
       "4     0.0025     0.00225         0.0003         0.0    2.041851           0.0   \n",
       "...      ...         ...            ...         ...         ...           ...   \n",
       "1194  0.5975     0.59725         0.0003         0.0  541.469165           0.0   \n",
       "1195  0.5980     0.59775         0.0003         0.0  541.922466           0.0   \n",
       "1196  0.5985     0.59825         0.0003         0.0  542.375766           0.0   \n",
       "1197  0.5990     0.59875         0.0003         0.0  542.829066           0.0   \n",
       "1198  0.5995     0.59925         0.0003         0.0  543.282366           0.0   \n",
       "\n",
       "      concrete_stress  steel_force  concrete_force  total_force  total_moment  \n",
       "0                   0          0.0             0.0          0.0          -0.0  \n",
       "1                   0          0.0             0.0          0.0          -0.0  \n",
       "2                   0          0.0             0.0          0.0          -0.0  \n",
       "3                   0          0.0             0.0          0.0          -0.0  \n",
       "4                   0          0.0             0.0          0.0          -0.0  \n",
       "...               ...          ...             ...          ...           ...  \n",
       "1194                0          0.0             0.0          0.0          -0.0  \n",
       "1195                0          0.0             0.0          0.0          -0.0  \n",
       "1196                0          0.0             0.0          0.0          -0.0  \n",
       "1197                0          0.0             0.0          0.0          -0.0  \n",
       "1198                0          0.0             0.0          0.0          -0.0  \n",
       "\n",
       "[1199 rows x 11 columns]"
      ]
     },
     "execution_count": 28,
     "metadata": {},
     "output_type": "execute_result"
    }
   ],
   "source": [
    "test_concrete_section.generate_slices()\n",
    "test_concrete_section.calculate_neutral_axis(0e3, concrete, steel)\n",
    "print(\"Neutral axis:\", test_concrete_section.neutral_axis)\n",
    "test_concrete_section.slices.to_csv(\"output.csv\")\n",
    "test_concrete_section.slices\n"
   ]
  },
  {
   "cell_type": "code",
   "execution_count": 25,
   "metadata": {},
   "outputs": [
    {
     "name": "stdout",
     "output_type": "stream",
     "text": [
      "Sum Moment: 31955.00 Nm\n"
     ]
    }
   ],
   "source": [
    "print(f\"Sum Moment: {test_concrete_section.slices.total_moment.sum():.2f} Nm\")"
   ]
  },
  {
   "cell_type": "code",
   "execution_count": 26,
   "metadata": {
    "scrolled": false
   },
   "outputs": [
    {
     "name": "stderr",
     "output_type": "stream",
     "text": [
      "C:\\Users\\antig\\anaconda3\\lib\\site-packages\\descartes\\patch.py:63: ShapelyDeprecationWarning: The array interface is deprecated and will no longer work in Shapely 2.0. Convert the '.coords' to a numpy array instead.\n",
      "  concatenate([asarray(t.exterior)[:, :2]] +\n",
      "C:\\Users\\antig\\anaconda3\\lib\\site-packages\\descartes\\patch.py:64: ShapelyDeprecationWarning: The array interface is deprecated and will no longer work in Shapely 2.0. Convert the '.coords' to a numpy array instead.\n",
      "  [asarray(r)[:, :2] for r in t.interiors])\n"
     ]
    },
    {
     "data": {
      "text/plain": [
       "<matplotlib.legend.Legend at 0x1d96f844640>"
      ]
     },
     "execution_count": 26,
     "metadata": {},
     "output_type": "execute_result"
    },
    {
     "data": {
      "image/png": "[encoded data removed]",
      "text/plain": [
       "<Figure size 1008x576 with 4 Axes>"
      ]
     },
     "metadata": {
      "needs_background": "light"
     },
     "output_type": "display_data"
    }
   ],
   "source": [
    "fig, axs = plt.subplots(1, 4, sharey=True, squeeze=True, figsize=(14, 8))\n",
    "axs[0].invert_yaxis()\n",
    "\n",
    "slices = test_concrete_section.slices\n",
    "test_concrete_section.plot(axs[0])\n",
    "\n",
    "for ax in axs:\n",
    "    ax.axhline(test_concrete_section.neutral_axis, color='red')\n",
    "\n",
    "axs[1].plot(\n",
    "    slices.strain,\n",
    "    slices.mid_height,\n",
    "    color='blue'\n",
    "    \n",
    ")\n",
    "\n",
    "axs[1].fill_betweenx(\n",
    "    slices.mid_height,0,slices.strain,\n",
    "    \n",
    ")\n",
    "\n",
    "\n",
    "    \n",
    "axs[2].plot(\n",
    "    slices.steel_stress,\n",
    "    slices.mid_height,\n",
    "    label = \"Steel stress\"\n",
    ")\n",
    "axs[2].plot(\n",
    "    slices.concrete_stress,\n",
    "    slices.mid_height,\n",
    "    label = \"Concrete stress\"\n",
    ")\n",
    "axs[2].legend()\n",
    "\n",
    "axs[3].plot(\n",
    "    slices.steel_force,\n",
    "    slices.mid_height,\n",
    "    label = \"Steel force\"\n",
    ")\n",
    "axs[3].plot(\n",
    "    slices.concrete_force,\n",
    "    slices.mid_height,\n",
    "    label = \"Concrete force\"\n",
    ")\n",
    "axs[3].legend()\n"
   ]
  },
  {
   "cell_type": "code",
   "execution_count": null,
   "metadata": {},
   "outputs": [],
   "source": []
  },
  {
   "cell_type": "code",
   "execution_count": null,
   "metadata": {},
   "outputs": [],
   "source": []
  },
  {
   "cell_type": "code",
   "execution_count": null,
   "metadata": {},
   "outputs": [],
   "source": []
  }
 ],
 "metadata": {
  "kernelspec": {
   "display_name": "Python 3",
   "language": "python",
   "name": "python3"
  },
  "language_info": {
   "codemirror_mode": {
    "name": "ipython",
    "version": 3
   },
   "file_extension": ".py",
   "mimetype": "text/x-python",
   "name": "python",
   "nbconvert_exporter": "python",
   "pygments_lexer": "ipython3",
   "version": "3.8.5"
  }
 },
 "nbformat": 4,
 "nbformat_minor": 4
}
