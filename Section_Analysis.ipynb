{
 "cells": [
  {
   "cell_type": "code",
   "execution_count": 9,
   "metadata": {
    "scrolled": false
   },
   "outputs": [],
   "source": [
    "import pandas as pd\n",
    "import seaborn as sns\n",
    "import numpy as np\n",
    "\n",
    "import matplotlib.pyplot as plt\n",
    "sns.set_style()\n",
    "\n",
    "from Materials import Material, Concrete, Steel\n",
    "from Sections import Rectangular, Section, HollowRectangular, HollowCircular"
   ]
  },
  {
   "cell_type": "code",
   "execution_count": 10,
   "metadata": {
    "scrolled": true
   },
   "outputs": [],
   "source": [
    "frp = Material('FRP', 600e6, 80e9, 'black')\n",
    "confining_steel = Steel('Confining Steel', 200e9, 500e6, 'blue')\n",
    "reinf_steel = Steel('Reinforcing Steel', 200e9, 500e6, 'blue')\n",
    "concrete = Concrete('Concrete', 37e9, 40e6, 'gray', None, frp=frp)\n",
    "\n",
    "\n",
    "# test_concrete_section = HollowRectangular(concrete, 0.600, 0.600, 0.34, 0.34, 0.130)\n",
    "# test_concrete_section.add_reinforcements(steel, 0.016, [(0.065,0.065) , (0.535,0.065) , (0.065,0.535) , (0.535,0.535) , (0.1825,0.065) , (0.065,0.1825) , (0.535,0.1825) , (0.1825,0.535) , (0.3,0.065) , (0.065,0.3) , (0.3,0.535) , (0.535,0.3) , (0.4175,0.065) , (0.065,0.4175) , (0.4175,0.535) , (0.535,0.4175)\n",
    "# ])\n",
    "test_section = Rectangular(concrete, 0.35, 0.35)\n",
    "test_section.add_reinforcements(reinf_steel,0.025, [(0.05,0.05) , (0.3,0.05) , (0.05,0.3) , (0.3,0.3) , (0.133333333333333,0.05)  , (0.133333333333333,0.3) , (0.216666666666667,0.05)  , (0.216666666666667,0.3)\n",
    "  ])\n",
    "\n",
    "# # test_concrete_section.add_reinforcements(steel,0.032, [(0.065,0.065) , (0.335,0.065) , (0.065,0.335) , (0.335,0.335) , (0.1325,0.065) , (0.065,0.1325) , (0.335,0.1325) , (0.1325,0.335) , (0.2,0.065) , (0.065,0.2) , (0.2,0.335) , (0.335,0.2)\n",
    "# #       ])\n",
    "\n",
    "# test_concrete_section = HollowCircular(steel,0.60,0.02,0.3,0.3)\n",
    "# test_concrete_section.add_reinforcements(concrete, 0.032, [(0.065,0.065) , (0.535,0.065) , (0.065,0.535) , (0.535,0.535) , (0.221666666666667,0.065) , (0.065,0.221666666666667) , (0.535,0.221666666666667) , (0.221666666666667,0.535) , (0.378333333333333,0.065) , (0.065,0.378333333333333) , (0.378333333333333,0.535) , (0.535,0.378333333333333)\n",
    "#            ])\n"
   ]
  },
  {
   "cell_type": "code",
   "execution_count": 3,
   "metadata": {
    "scrolled": true
   },
   "outputs": [
    {
     "name": "stdout",
     "output_type": "stream",
     "text": [
      "Neutral axis: 0.9751718416098225\n"
     ]
    },
    {
     "name": "stderr",
     "output_type": "stream",
     "text": [
      "c:\\users\\antig\\pycharmprojects\\sectionanalysis\\venv\\lib\\site-packages\\scipy\\optimize\\_zeros_py.py:348: RuntimeWarning: Tolerance of 0.017690270828615406 reached.\n",
      "  warnings.warn(msg, RuntimeWarning)\n"
     ]
    },
    {
     "data": {
      "text/plain": "     height  mid_height  Concrete_area  Steel_area    strain  steel_stress  \\\n0    0.0005     0.00025       0.000175         0.0  0.003499           0.0   \n1    0.0010     0.00075       0.000175         0.0  0.003497           0.0   \n2    0.0015     0.00125       0.000175         0.0  0.003496           0.0   \n3    0.0020     0.00175       0.000175         0.0  0.003494           0.0   \n4    0.0025     0.00225       0.000175         0.0  0.003492           0.0   \n..      ...         ...            ...         ...       ...           ...   \n694  0.3475     0.34725       0.000175         0.0  0.002265           0.0   \n695  0.3480     0.34775       0.000175         0.0  0.002263           0.0   \n696  0.3485     0.34825       0.000175         0.0  0.002261           0.0   \n697  0.3490     0.34875       0.000175         0.0  0.002260           0.0   \n698  0.3495     0.34925       0.000175         0.0  0.002258           0.0   \n\n     concrete_stress  steel_force  concrete_force  total_force  total_moment  \\\n0       2.266667e+07          0.0     3966.666667  3966.666667    693.175000   \n1       2.266667e+07          0.0     3966.666667  3966.666667    691.191667   \n2       2.266667e+07          0.0     3966.666667  3966.666667    689.208333   \n3       2.266667e+07          0.0     3966.666667  3966.666667    687.225000   \n4       2.266667e+07          0.0     3966.666667  3966.666667    685.241667   \n..               ...          ...             ...          ...           ...   \n694     2.266667e+07          0.0     3966.666667  3966.666667   -683.258333   \n695     2.266667e+07          0.0     3966.666667  3966.666667   -685.241667   \n696     2.266667e+07          0.0     3966.666667  3966.666667   -687.225000   \n697     2.266667e+07          0.0     3966.666667  3966.666667   -689.208333   \n698     2.266667e+07          0.0     3966.666667  3966.666667   -691.191667   \n\n     steel_moment  \n0             0.0  \n1             0.0  \n2             0.0  \n3             0.0  \n4             0.0  \n..            ...  \n694          -0.0  \n695          -0.0  \n696          -0.0  \n697          -0.0  \n698          -0.0  \n\n[699 rows x 12 columns]",
      "text/html": "<div>\n<style scoped>\n    .dataframe tbody tr th:only-of-type {\n        vertical-align: middle;\n    }\n\n    .dataframe tbody tr th {\n        vertical-align: top;\n    }\n\n    .dataframe thead th {\n        text-align: right;\n    }\n</style>\n<table border=\"1\" class=\"dataframe\">\n  <thead>\n    <tr style=\"text-align: right;\">\n      <th></th>\n      <th>height</th>\n      <th>mid_height</th>\n      <th>Concrete_area</th>\n      <th>Steel_area</th>\n      <th>strain</th>\n      <th>steel_stress</th>\n      <th>concrete_stress</th>\n      <th>steel_force</th>\n      <th>concrete_force</th>\n      <th>total_force</th>\n      <th>total_moment</th>\n      <th>steel_moment</th>\n    </tr>\n  </thead>\n  <tbody>\n    <tr>\n      <th>0</th>\n      <td>0.0005</td>\n      <td>0.00025</td>\n      <td>0.000175</td>\n      <td>0.0</td>\n      <td>0.003499</td>\n      <td>0.0</td>\n      <td>2.266667e+07</td>\n      <td>0.0</td>\n      <td>3966.666667</td>\n      <td>3966.666667</td>\n      <td>693.175000</td>\n      <td>0.0</td>\n    </tr>\n    <tr>\n      <th>1</th>\n      <td>0.0010</td>\n      <td>0.00075</td>\n      <td>0.000175</td>\n      <td>0.0</td>\n      <td>0.003497</td>\n      <td>0.0</td>\n      <td>2.266667e+07</td>\n      <td>0.0</td>\n      <td>3966.666667</td>\n      <td>3966.666667</td>\n      <td>691.191667</td>\n      <td>0.0</td>\n    </tr>\n    <tr>\n      <th>2</th>\n      <td>0.0015</td>\n      <td>0.00125</td>\n      <td>0.000175</td>\n      <td>0.0</td>\n      <td>0.003496</td>\n      <td>0.0</td>\n      <td>2.266667e+07</td>\n      <td>0.0</td>\n      <td>3966.666667</td>\n      <td>3966.666667</td>\n      <td>689.208333</td>\n      <td>0.0</td>\n    </tr>\n    <tr>\n      <th>3</th>\n      <td>0.0020</td>\n      <td>0.00175</td>\n      <td>0.000175</td>\n      <td>0.0</td>\n      <td>0.003494</td>\n      <td>0.0</td>\n      <td>2.266667e+07</td>\n      <td>0.0</td>\n      <td>3966.666667</td>\n      <td>3966.666667</td>\n      <td>687.225000</td>\n      <td>0.0</td>\n    </tr>\n    <tr>\n      <th>4</th>\n      <td>0.0025</td>\n      <td>0.00225</td>\n      <td>0.000175</td>\n      <td>0.0</td>\n      <td>0.003492</td>\n      <td>0.0</td>\n      <td>2.266667e+07</td>\n      <td>0.0</td>\n      <td>3966.666667</td>\n      <td>3966.666667</td>\n      <td>685.241667</td>\n      <td>0.0</td>\n    </tr>\n    <tr>\n      <th>...</th>\n      <td>...</td>\n      <td>...</td>\n      <td>...</td>\n      <td>...</td>\n      <td>...</td>\n      <td>...</td>\n      <td>...</td>\n      <td>...</td>\n      <td>...</td>\n      <td>...</td>\n      <td>...</td>\n      <td>...</td>\n    </tr>\n    <tr>\n      <th>694</th>\n      <td>0.3475</td>\n      <td>0.34725</td>\n      <td>0.000175</td>\n      <td>0.0</td>\n      <td>0.002265</td>\n      <td>0.0</td>\n      <td>2.266667e+07</td>\n      <td>0.0</td>\n      <td>3966.666667</td>\n      <td>3966.666667</td>\n      <td>-683.258333</td>\n      <td>-0.0</td>\n    </tr>\n    <tr>\n      <th>695</th>\n      <td>0.3480</td>\n      <td>0.34775</td>\n      <td>0.000175</td>\n      <td>0.0</td>\n      <td>0.002263</td>\n      <td>0.0</td>\n      <td>2.266667e+07</td>\n      <td>0.0</td>\n      <td>3966.666667</td>\n      <td>3966.666667</td>\n      <td>-685.241667</td>\n      <td>-0.0</td>\n    </tr>\n    <tr>\n      <th>696</th>\n      <td>0.3485</td>\n      <td>0.34825</td>\n      <td>0.000175</td>\n      <td>0.0</td>\n      <td>0.002261</td>\n      <td>0.0</td>\n      <td>2.266667e+07</td>\n      <td>0.0</td>\n      <td>3966.666667</td>\n      <td>3966.666667</td>\n      <td>-687.225000</td>\n      <td>-0.0</td>\n    </tr>\n    <tr>\n      <th>697</th>\n      <td>0.3490</td>\n      <td>0.34875</td>\n      <td>0.000175</td>\n      <td>0.0</td>\n      <td>0.002260</td>\n      <td>0.0</td>\n      <td>2.266667e+07</td>\n      <td>0.0</td>\n      <td>3966.666667</td>\n      <td>3966.666667</td>\n      <td>-689.208333</td>\n      <td>-0.0</td>\n    </tr>\n    <tr>\n      <th>698</th>\n      <td>0.3495</td>\n      <td>0.34925</td>\n      <td>0.000175</td>\n      <td>0.0</td>\n      <td>0.002258</td>\n      <td>0.0</td>\n      <td>2.266667e+07</td>\n      <td>0.0</td>\n      <td>3966.666667</td>\n      <td>3966.666667</td>\n      <td>-691.191667</td>\n      <td>-0.0</td>\n    </tr>\n  </tbody>\n</table>\n<p>699 rows × 12 columns</p>\n</div>"
     },
     "execution_count": 3,
     "metadata": {},
     "output_type": "execute_result"
    }
   ],
   "source": [
    "test_section.generate_slices()\n",
    "test_section.calculate_neutral_axis(4500e3, concrete, reinf_steel)\n",
    "print(\"Neutral axis:\", test_section.neutral_axis)\n",
    "test_section.slices.to_csv(\"output.csv\")\n",
    "test_section.slices\n",
    "\n"
   ]
  },
  {
   "cell_type": "code",
   "execution_count": 4,
   "metadata": {
    "scrolled": true
   },
   "outputs": [
    {
     "name": "stdout",
     "output_type": "stream",
     "text": [
      "Sum Moment: 1501.06 Nm\n",
      "Sum Concrete Area: 0.118404 m^2\n",
      "Sum Steel Area: 0.003921 m^2\n",
      "Sum Force: 4388477.04 Nm\n",
      "Steel Force: 1704645.92 Nm\n",
      "Concrete Force: 2683831.13 Nm\n"
     ]
    },
    {
     "data": {
      "text/plain": "0.351859"
     },
     "execution_count": 4,
     "metadata": {},
     "output_type": "execute_result"
    }
   ],
   "source": [
    "print(f\"Sum Moment: {test_section.slices.total_moment.sum():.2f} Nm\")\n",
    "print(f\"Sum Concrete Area: {test_section.slices.Concrete_area.sum():.6f} m^2\")\n",
    "print(f\"Sum Steel Area: {test_section.slices.Steel_area.sum():.6f} m^2\")\n",
    "print(f\"Sum Force: {test_section.slices.total_force.sum():.2f} Nm\")\n",
    "print(f\"Steel Force: {test_section.slices.steel_force.sum():.2f} Nm\")\n",
    "print(f\"Concrete Force: {test_section.slices.concrete_force.sum():.2f} Nm\")\n",
    "\n",
    "0.351859"
   ]
  },
  {
   "cell_type": "code",
   "execution_count": 5,
   "metadata": {
    "scrolled": true
   },
   "outputs": [
    {
     "name": "stderr",
     "output_type": "stream",
     "text": [
      "c:\\users\\antig\\pycharmprojects\\sectionanalysis\\venv\\lib\\site-packages\\descartes\\patch.py:62: ShapelyDeprecationWarning: The array interface is deprecated and will no longer work in Shapely 2.0. Convert the '.coords' to a numpy array instead.\n",
      "  vertices = concatenate([\n",
      "c:\\users\\antig\\pycharmprojects\\sectionanalysis\\venv\\lib\\site-packages\\descartes\\patch.py:64: ShapelyDeprecationWarning: The array interface is deprecated and will no longer work in Shapely 2.0. Convert the '.coords' to a numpy array instead.\n",
      "  [asarray(r)[:, :2] for r in t.interiors])\n"
     ]
    },
    {
     "data": {
      "text/plain": "<Figure size 1152x288 with 4 Axes>",
      "image/png": "[encoded data removed]"
     },
     "metadata": {
      "needs_background": "light"
     },
     "output_type": "display_data"
    }
   ],
   "source": [
    "\n",
    "# left  = 0.125  # the left side of the subplots of the figure\n",
    "# right = 0.125    # the right side of the subplots of the figure\n",
    "# bottom = 0.1   # the bottom of the subplots of the figure\n",
    "# top = 0.9      # the top of the subplots of the figure\n",
    "# wspace = 0.2   # the amount of width reserved for blank space between subplots\n",
    "# hspace = 0.2   # the amount of height reserved for white space between subplots\n",
    "\n",
    "fig, axs = plt.subplots(1, 4, sharey=True, squeeze=True, figsize=(16, 4))\n",
    "                       \n",
    "axs[0].invert_yaxis()\n",
    "axs[0].set_ylim(0,0.6)\n",
    "axs[0].set_xlim(0,0.6)\n",
    "axs[0].invert_yaxis()\n",
    "\n",
    "slices = test_section.slices\n",
    "test_section.plot(axs[0])\n",
    "\n",
    "for ax in axs:\n",
    "    ax.axhline(test_section.neutral_axis, color='red')\n",
    "\n",
    "axs[1].plot(\n",
    "    slices.strain,\n",
    "    slices.mid_height,\n",
    "    color='blue'\n",
    "    \n",
    ")\n",
    "\n",
    "axs[1].fill_betweenx(\n",
    "    slices.mid_height,0,slices.strain,\n",
    "    \n",
    ")\n",
    "\n",
    "axs[2].plot(\n",
    "    slices.steel_force,\n",
    "    slices.mid_height,\n",
    "    label = \"Steel force\"\n",
    ")\n",
    "axs[2].plot(\n",
    "    slices.concrete_force,\n",
    "    slices.mid_height,\n",
    "    label = \"Concrete force\"\n",
    ")\n",
    "axs[2].legend()\n",
    "\n",
    "    \n",
    "# axs[2].plot(\n",
    "#     slices.steel_stress,\n",
    "#     slices.mid_height,\n",
    "#     label = \"Steel stress\"\n",
    "# )\n",
    "# axs[2].plot(\n",
    "#     slices.concrete_stress,\n",
    "#     slices.mid_height,\n",
    "#     label = \"Concrete stress\"\n",
    "# )\n",
    "# axs[2].legend()\n",
    "\n",
    "axs[3].plot(\n",
    "    slices.total_moment,\n",
    "    slices.mid_height,\n",
    "    label = \"Total Moment\"\n",
    "# )\n",
    "# axs[3].plot(\n",
    "#     slices.concrete_moment,\n",
    "#     slices.mid_height,\n",
    "#     label = \"Concrete Moment\"\n",
    ")\n",
    "axs[3].legend()\n",
    "\n",
    "# set the spacing between subplots\n",
    "plt.subplots_adjust(left=0.1,\n",
    "                    bottom=0.1, \n",
    "                    right=1, \n",
    "                    top=0.9, \n",
    "                    wspace=0.1, \n",
    "                    hspace=0.3)\n",
    "# [ax.set_aspect('equal') for ax in axs.ravel()]\n",
    "\n"
   ]
  },
  {
   "cell_type": "code",
   "execution_count": 6,
   "metadata": {
    "scrolled": true
   },
   "outputs": [
    {
     "ename": "NameError",
     "evalue": "name 'steel' is not defined",
     "output_type": "error",
     "traceback": [
      "\u001B[1;31m---------------------------------------------------------------------------\u001B[0m",
      "\u001B[1;31mNameError\u001B[0m                                 Traceback (most recent call last)",
      "Input \u001B[1;32mIn [6]\u001B[0m, in \u001B[0;36m<cell line: 2>\u001B[1;34m()\u001B[0m\n\u001B[0;32m      1\u001B[0m test_section\u001B[38;5;241m.\u001B[39mgenerate_slices()\n\u001B[1;32m----> 2\u001B[0m test_section\u001B[38;5;241m.\u001B[39mcalculate_neutral_axis(\u001B[38;5;241m4500e3\u001B[39m, concrete, \u001B[43msteel\u001B[49m)\n\u001B[0;32m      3\u001B[0m \u001B[38;5;28mprint\u001B[39m(\u001B[38;5;124m\"\u001B[39m\u001B[38;5;124mNeutral axis:\u001B[39m\u001B[38;5;124m\"\u001B[39m, test_section\u001B[38;5;241m.\u001B[39mneutral_axis)\n\u001B[0;32m      4\u001B[0m test_section\u001B[38;5;241m.\u001B[39mslices\u001B[38;5;241m.\u001B[39mto_csv(\u001B[38;5;124m\"\u001B[39m\u001B[38;5;124moutput.csv\u001B[39m\u001B[38;5;124m\"\u001B[39m)\n",
      "\u001B[1;31mNameError\u001B[0m: name 'steel' is not defined"
     ]
    }
   ],
   "source": [
    "test_section.generate_slices()\n",
    "test_section.calculate_neutral_axis(4500e3, concrete, steel)\n",
    "print(\"Neutral axis:\", test_section.neutral_axis)\n",
    "test_section.slices.to_csv(\"output.csv\")\n",
    "test_section.slices\n"
   ]
  },
  {
   "cell_type": "code",
   "execution_count": 13,
   "metadata": {},
   "outputs": [
    {
     "name": "stdout",
     "output_type": "stream",
     "text": [
      "0.0 222844.6006041824\n",
      "100000.0 234906.50398688976\n",
      "200000.0 246742.58204006095\n",
      "300000.0 258299.91085896257\n",
      "400000.0 269518.7741637683\n",
      "500000.0 280307.85644261737\n",
      "600000.0 290482.8075483581\n",
      "700000.0 299822.5884138193\n",
      "800000.0 308030.97048625816\n",
      "900000.0 314739.1575867422\n",
      "1000000.0 319626.0109698765\n",
      "1100000.0 322923.1030135138\n",
      "1200000.0 319582.39318648714\n",
      "1300000.0 312620.8312671973\n",
      "1400000.0 305280.78675846476\n",
      "1500000.0 297939.51592392003\n",
      "1600000.0 290578.89103412954\n",
      "1700000.0 283179.4481643738\n",
      "1800000.0 275719.53574318544\n",
      "1900000.0 268175.89063000144\n",
      "2000000.0 260523.63307745982\n"
     ]
    },
    {
     "name": "stderr",
     "output_type": "stream",
     "text": [
      "c:\\users\\antig\\pycharmprojects\\sectionanalysis\\venv\\lib\\site-packages\\scipy\\optimize\\_zeros_py.py:348: RuntimeWarning: Tolerance of 20918522018292.5 reached.\n",
      "  warnings.warn(msg, RuntimeWarning)\n"
     ]
    },
    {
     "name": "stdout",
     "output_type": "stream",
     "text": [
      "2100000.0 -92089.0813070789\n"
     ]
    },
    {
     "name": "stderr",
     "output_type": "stream",
     "text": [
      "c:\\users\\antig\\pycharmprojects\\sectionanalysis\\venv\\lib\\site-packages\\scipy\\optimize\\_zeros_py.py:348: RuntimeWarning: Tolerance of -0.027208712923198805 reached.\n",
      "  warnings.warn(msg, RuntimeWarning)\n"
     ]
    },
    {
     "name": "stdout",
     "output_type": "stream",
     "text": [
      "2200000.0 852.3229593873984\n"
     ]
    },
    {
     "name": "stderr",
     "output_type": "stream",
     "text": [
      "c:\\users\\antig\\pycharmprojects\\sectionanalysis\\venv\\lib\\site-packages\\scipy\\optimize\\_zeros_py.py:348: RuntimeWarning: Tolerance of -0.03617488223153437 reached.\n",
      "  warnings.warn(msg, RuntimeWarning)\n"
     ]
    },
    {
     "name": "stdout",
     "output_type": "stream",
     "text": [
      "2300000.0 852.3229593873984\n"
     ]
    },
    {
     "name": "stderr",
     "output_type": "stream",
     "text": [
      "c:\\users\\antig\\pycharmprojects\\sectionanalysis\\venv\\lib\\site-packages\\scipy\\optimize\\_zeros_py.py:348: RuntimeWarning: Tolerance of -0.05322544729725209 reached.\n",
      "  warnings.warn(msg, RuntimeWarning)\n"
     ]
    },
    {
     "name": "stdout",
     "output_type": "stream",
     "text": [
      "2400000.0 852.3229593873984\n"
     ]
    },
    {
     "name": "stderr",
     "output_type": "stream",
     "text": [
      "c:\\users\\antig\\pycharmprojects\\sectionanalysis\\venv\\lib\\site-packages\\scipy\\optimize\\_zeros_py.py:348: RuntimeWarning: Tolerance of -0.07596929853328882 reached.\n",
      "  warnings.warn(msg, RuntimeWarning)\n"
     ]
    },
    {
     "name": "stdout",
     "output_type": "stream",
     "text": [
      "2500000.0 852.3229593873984\n"
     ]
    },
    {
     "name": "stderr",
     "output_type": "stream",
     "text": [
      "c:\\users\\antig\\pycharmprojects\\sectionanalysis\\venv\\lib\\site-packages\\scipy\\optimize\\_zeros_py.py:348: RuntimeWarning: Tolerance of -0.10566213289059578 reached.\n",
      "  warnings.warn(msg, RuntimeWarning)\n"
     ]
    },
    {
     "name": "stdout",
     "output_type": "stream",
     "text": [
      "2600000.0 852.322959387413\n"
     ]
    },
    {
     "name": "stderr",
     "output_type": "stream",
     "text": [
      "c:\\users\\antig\\pycharmprojects\\sectionanalysis\\venv\\lib\\site-packages\\scipy\\optimize\\_zeros_py.py:348: RuntimeWarning: Tolerance of -0.14490531727872552 reached.\n",
      "  warnings.warn(msg, RuntimeWarning)\n"
     ]
    },
    {
     "name": "stdout",
     "output_type": "stream",
     "text": [
      "2700000.0 852.3229593873984\n"
     ]
    },
    {
     "name": "stderr",
     "output_type": "stream",
     "text": [
      "c:\\users\\antig\\pycharmprojects\\sectionanalysis\\venv\\lib\\site-packages\\scipy\\optimize\\_zeros_py.py:348: RuntimeWarning: Tolerance of -0.2490634308414521 reached.\n",
      "  warnings.warn(msg, RuntimeWarning)\n"
     ]
    },
    {
     "name": "stdout",
     "output_type": "stream",
     "text": [
      "2800000.0 852.3229593873984\n"
     ]
    },
    {
     "name": "stderr",
     "output_type": "stream",
     "text": [
      "c:\\users\\antig\\pycharmprojects\\sectionanalysis\\venv\\lib\\site-packages\\scipy\\optimize\\_zeros_py.py:348: RuntimeWarning: Tolerance of -0.4936207076328579 reached.\n",
      "  warnings.warn(msg, RuntimeWarning)\n"
     ]
    },
    {
     "name": "stdout",
     "output_type": "stream",
     "text": [
      "2900000.0 852.3229593873984\n"
     ]
    },
    {
     "name": "stderr",
     "output_type": "stream",
     "text": [
      "c:\\users\\antig\\pycharmprojects\\sectionanalysis\\venv\\lib\\site-packages\\scipy\\optimize\\_zeros_py.py:348: RuntimeWarning: Tolerance of -0.9993629725626036 reached.\n",
      "  warnings.warn(msg, RuntimeWarning)\n"
     ]
    },
    {
     "name": "stdout",
     "output_type": "stream",
     "text": [
      "3000000.0 852.3229593873984\n"
     ]
    },
    {
     "name": "stderr",
     "output_type": "stream",
     "text": [
      "c:\\users\\antig\\pycharmprojects\\sectionanalysis\\venv\\lib\\site-packages\\scipy\\optimize\\_zeros_py.py:348: RuntimeWarning: Tolerance of -2.218263177308378 reached.\n",
      "  warnings.warn(msg, RuntimeWarning)\n"
     ]
    },
    {
     "name": "stdout",
     "output_type": "stream",
     "text": [
      "3100000.0 852.3229593873984\n"
     ]
    },
    {
     "name": "stderr",
     "output_type": "stream",
     "text": [
      "c:\\users\\antig\\pycharmprojects\\sectionanalysis\\venv\\lib\\site-packages\\scipy\\optimize\\_zeros_py.py:348: RuntimeWarning: Tolerance of -5.453389508299837 reached.\n",
      "  warnings.warn(msg, RuntimeWarning)\n"
     ]
    },
    {
     "name": "stdout",
     "output_type": "stream",
     "text": [
      "3200000.0 852.3229593873984\n"
     ]
    },
    {
     "name": "stderr",
     "output_type": "stream",
     "text": [
      "c:\\users\\antig\\pycharmprojects\\sectionanalysis\\venv\\lib\\site-packages\\scipy\\optimize\\_zeros_py.py:348: RuntimeWarning: Tolerance of -4.34834819247303 reached.\n",
      "  warnings.warn(msg, RuntimeWarning)\n"
     ]
    },
    {
     "name": "stdout",
     "output_type": "stream",
     "text": [
      "3300000.0 1501.0635224379948\n"
     ]
    },
    {
     "name": "stderr",
     "output_type": "stream",
     "text": [
      "c:\\users\\antig\\pycharmprojects\\sectionanalysis\\venv\\lib\\site-packages\\scipy\\optimize\\_zeros_py.py:348: RuntimeWarning: Tolerance of -0.5888477223812818 reached.\n",
      "  warnings.warn(msg, RuntimeWarning)\n"
     ]
    },
    {
     "name": "stdout",
     "output_type": "stream",
     "text": [
      "3400000.0 1501.0635224379948\n"
     ]
    },
    {
     "name": "stderr",
     "output_type": "stream",
     "text": [
      "c:\\users\\antig\\pycharmprojects\\sectionanalysis\\venv\\lib\\site-packages\\scipy\\optimize\\_zeros_py.py:348: RuntimeWarning: Tolerance of -2.5916528334698974 reached.\n",
      "  warnings.warn(msg, RuntimeWarning)\n"
     ]
    },
    {
     "name": "stdout",
     "output_type": "stream",
     "text": [
      "3500000.0 852.3229593873984\n"
     ]
    },
    {
     "name": "stderr",
     "output_type": "stream",
     "text": [
      "c:\\users\\antig\\pycharmprojects\\sectionanalysis\\venv\\lib\\site-packages\\scipy\\optimize\\_zeros_py.py:348: RuntimeWarning: Tolerance of 14.827627135217464 reached.\n",
      "  warnings.warn(msg, RuntimeWarning)\n"
     ]
    },
    {
     "name": "stdout",
     "output_type": "stream",
     "text": [
      "3600000.0 852.3229593873984\n"
     ]
    },
    {
     "name": "stderr",
     "output_type": "stream",
     "text": [
      "c:\\users\\antig\\pycharmprojects\\sectionanalysis\\venv\\lib\\site-packages\\scipy\\optimize\\_zeros_py.py:348: RuntimeWarning: Tolerance of -2.0361390887733934 reached.\n",
      "  warnings.warn(msg, RuntimeWarning)\n"
     ]
    },
    {
     "name": "stdout",
     "output_type": "stream",
     "text": [
      "3700000.0 1501.0635224379948\n"
     ]
    },
    {
     "name": "stderr",
     "output_type": "stream",
     "text": [
      "c:\\users\\antig\\pycharmprojects\\sectionanalysis\\venv\\lib\\site-packages\\scipy\\optimize\\_zeros_py.py:348: RuntimeWarning: Tolerance of 3.1964163729982418 reached.\n",
      "  warnings.warn(msg, RuntimeWarning)\n"
     ]
    },
    {
     "name": "stdout",
     "output_type": "stream",
     "text": [
      "3800000.0 852.3229593873984\n"
     ]
    },
    {
     "name": "stderr",
     "output_type": "stream",
     "text": [
      "c:\\users\\antig\\pycharmprojects\\sectionanalysis\\venv\\lib\\site-packages\\scipy\\optimize\\_zeros_py.py:348: RuntimeWarning: Tolerance of 19.19409244838331 reached.\n",
      "  warnings.warn(msg, RuntimeWarning)\n"
     ]
    },
    {
     "name": "stdout",
     "output_type": "stream",
     "text": [
      "3900000.0 852.3229593873984\n"
     ]
    },
    {
     "name": "stderr",
     "output_type": "stream",
     "text": [
      "c:\\users\\antig\\pycharmprojects\\sectionanalysis\\venv\\lib\\site-packages\\scipy\\optimize\\_zeros_py.py:348: RuntimeWarning: Tolerance of -0.05660421662259896 reached.\n",
      "  warnings.warn(msg, RuntimeWarning)\n"
     ]
    },
    {
     "name": "stdout",
     "output_type": "stream",
     "text": [
      "4000000.0 1501.0635224379948\n"
     ]
    },
    {
     "name": "stderr",
     "output_type": "stream",
     "text": [
      "c:\\users\\antig\\pycharmprojects\\sectionanalysis\\venv\\lib\\site-packages\\scipy\\optimize\\_zeros_py.py:348: RuntimeWarning: Tolerance of -0.04277863688475503 reached.\n",
      "  warnings.warn(msg, RuntimeWarning)\n"
     ]
    },
    {
     "name": "stdout",
     "output_type": "stream",
     "text": [
      "4100000.0 1501.0635224379948\n"
     ]
    },
    {
     "name": "stderr",
     "output_type": "stream",
     "text": [
      "c:\\users\\antig\\pycharmprojects\\sectionanalysis\\venv\\lib\\site-packages\\scipy\\optimize\\_zeros_py.py:348: RuntimeWarning: Tolerance of -0.02843639827071187 reached.\n",
      "  warnings.warn(msg, RuntimeWarning)\n"
     ]
    },
    {
     "name": "stdout",
     "output_type": "stream",
     "text": [
      "4200000.0 1501.0635224379948\n"
     ]
    },
    {
     "name": "stderr",
     "output_type": "stream",
     "text": [
      "c:\\users\\antig\\pycharmprojects\\sectionanalysis\\venv\\lib\\site-packages\\scipy\\optimize\\_zeros_py.py:348: RuntimeWarning: Tolerance of -0.013577500780469154 reached.\n",
      "  warnings.warn(msg, RuntimeWarning)\n"
     ]
    },
    {
     "name": "stdout",
     "output_type": "stream",
     "text": [
      "4300000.0 1501.0635224379948\n"
     ]
    },
    {
     "name": "stderr",
     "output_type": "stream",
     "text": [
      "c:\\users\\antig\\pycharmprojects\\sectionanalysis\\venv\\lib\\site-packages\\scipy\\optimize\\_zeros_py.py:348: RuntimeWarning: Tolerance of 0.001798055585973457 reached.\n",
      "  warnings.warn(msg, RuntimeWarning)\n"
     ]
    },
    {
     "name": "stdout",
     "output_type": "stream",
     "text": [
      "4400000.0 1501.0635224379948\n"
     ]
    },
    {
     "name": "stderr",
     "output_type": "stream",
     "text": [
      "c:\\users\\antig\\pycharmprojects\\sectionanalysis\\venv\\lib\\site-packages\\scipy\\optimize\\_zeros_py.py:348: RuntimeWarning: Tolerance of 0.017690270828615406 reached.\n",
      "  warnings.warn(msg, RuntimeWarning)\n"
     ]
    },
    {
     "name": "stdout",
     "output_type": "stream",
     "text": [
      "4500000.0 1501.0635224379948\n"
     ]
    },
    {
     "name": "stderr",
     "output_type": "stream",
     "text": [
      "c:\\users\\antig\\pycharmprojects\\sectionanalysis\\venv\\lib\\site-packages\\scipy\\optimize\\_zeros_py.py:348: RuntimeWarning: Tolerance of 0.034099144947456805 reached.\n",
      "  warnings.warn(msg, RuntimeWarning)\n"
     ]
    },
    {
     "name": "stdout",
     "output_type": "stream",
     "text": [
      "4600000.0 1501.0635224379948\n"
     ]
    },
    {
     "name": "stderr",
     "output_type": "stream",
     "text": [
      "c:\\users\\antig\\pycharmprojects\\sectionanalysis\\venv\\lib\\site-packages\\scipy\\optimize\\_zeros_py.py:348: RuntimeWarning: Tolerance of 0.051024677942497876 reached.\n",
      "  warnings.warn(msg, RuntimeWarning)\n"
     ]
    },
    {
     "name": "stdout",
     "output_type": "stream",
     "text": [
      "4700000.0 1501.0635224379948\n"
     ]
    },
    {
     "name": "stderr",
     "output_type": "stream",
     "text": [
      "c:\\users\\antig\\pycharmprojects\\sectionanalysis\\venv\\lib\\site-packages\\scipy\\optimize\\_zeros_py.py:348: RuntimeWarning: Tolerance of 0.06846686981373895 reached.\n",
      "  warnings.warn(msg, RuntimeWarning)\n"
     ]
    },
    {
     "name": "stdout",
     "output_type": "stream",
     "text": [
      "4800000.0 1501.0635224379948\n"
     ]
    },
    {
     "name": "stderr",
     "output_type": "stream",
     "text": [
      "c:\\users\\antig\\pycharmprojects\\sectionanalysis\\venv\\lib\\site-packages\\scipy\\optimize\\_zeros_py.py:348: RuntimeWarning: Tolerance of 0.08642572056117825 reached.\n",
      "  warnings.warn(msg, RuntimeWarning)\n"
     ]
    },
    {
     "name": "stdout",
     "output_type": "stream",
     "text": [
      "4900000.0 1501.0635224379948\n"
     ]
    },
    {
     "name": "stderr",
     "output_type": "stream",
     "text": [
      "c:\\users\\antig\\pycharmprojects\\sectionanalysis\\venv\\lib\\site-packages\\scipy\\optimize\\_zeros_py.py:348: RuntimeWarning: Tolerance of 0.104901230184818 reached.\n",
      "  warnings.warn(msg, RuntimeWarning)\n"
     ]
    },
    {
     "name": "stdout",
     "output_type": "stream",
     "text": [
      "5000000.0 1501.0635224379948\n"
     ]
    },
    {
     "name": "stderr",
     "output_type": "stream",
     "text": [
      "c:\\users\\antig\\pycharmprojects\\sectionanalysis\\venv\\lib\\site-packages\\scipy\\optimize\\_zeros_py.py:348: RuntimeWarning: Tolerance of 0.12389339868465798 reached.\n",
      "  warnings.warn(msg, RuntimeWarning)\n"
     ]
    },
    {
     "name": "stdout",
     "output_type": "stream",
     "text": [
      "5100000.0 1501.0635224379948\n"
     ]
    },
    {
     "name": "stderr",
     "output_type": "stream",
     "text": [
      "c:\\users\\antig\\pycharmprojects\\sectionanalysis\\venv\\lib\\site-packages\\scipy\\optimize\\_zeros_py.py:348: RuntimeWarning: Tolerance of 0.14340222606069686 reached.\n",
      "  warnings.warn(msg, RuntimeWarning)\n"
     ]
    },
    {
     "name": "stdout",
     "output_type": "stream",
     "text": [
      "5200000.0 1501.0635224379948\n"
     ]
    },
    {
     "name": "stderr",
     "output_type": "stream",
     "text": [
      "c:\\users\\antig\\pycharmprojects\\sectionanalysis\\venv\\lib\\site-packages\\scipy\\optimize\\_zeros_py.py:348: RuntimeWarning: Tolerance of 0.16342771231293574 reached.\n",
      "  warnings.warn(msg, RuntimeWarning)\n"
     ]
    },
    {
     "name": "stdout",
     "output_type": "stream",
     "text": [
      "5300000.0 1501.0635224379948\n"
     ]
    },
    {
     "name": "stderr",
     "output_type": "stream",
     "text": [
      "c:\\users\\antig\\pycharmprojects\\sectionanalysis\\venv\\lib\\site-packages\\scipy\\optimize\\_zeros_py.py:348: RuntimeWarning: Tolerance of 0.18396985744137195 reached.\n",
      "  warnings.warn(msg, RuntimeWarning)\n"
     ]
    },
    {
     "name": "stdout",
     "output_type": "stream",
     "text": [
      "5400000.0 1501.0635224379948\n"
     ]
    },
    {
     "name": "stderr",
     "output_type": "stream",
     "text": [
      "c:\\users\\antig\\pycharmprojects\\sectionanalysis\\venv\\lib\\site-packages\\scipy\\optimize\\_zeros_py.py:348: RuntimeWarning: Tolerance of 0.20502866144600929 reached.\n",
      "  warnings.warn(msg, RuntimeWarning)\n"
     ]
    },
    {
     "name": "stdout",
     "output_type": "stream",
     "text": [
      "5500000.0 1501.0635224379948\n"
     ]
    },
    {
     "name": "stderr",
     "output_type": "stream",
     "text": [
      "c:\\users\\antig\\pycharmprojects\\sectionanalysis\\venv\\lib\\site-packages\\scipy\\optimize\\_zeros_py.py:348: RuntimeWarning: Tolerance of 0.2266041243268464 reached.\n",
      "  warnings.warn(msg, RuntimeWarning)\n"
     ]
    },
    {
     "name": "stdout",
     "output_type": "stream",
     "text": [
      "5600000.0 1501.0635224379948\n"
     ]
    },
    {
     "name": "stderr",
     "output_type": "stream",
     "text": [
      "c:\\users\\antig\\pycharmprojects\\sectionanalysis\\venv\\lib\\site-packages\\scipy\\optimize\\_zeros_py.py:348: RuntimeWarning: Tolerance of 0.24869624608388463 reached.\n",
      "  warnings.warn(msg, RuntimeWarning)\n"
     ]
    },
    {
     "name": "stdout",
     "output_type": "stream",
     "text": [
      "5700000.0 1501.0635224379948\n"
     ]
    },
    {
     "name": "stderr",
     "output_type": "stream",
     "text": [
      "c:\\users\\antig\\pycharmprojects\\sectionanalysis\\venv\\lib\\site-packages\\scipy\\optimize\\_zeros_py.py:348: RuntimeWarning: Tolerance of 0.27130502671712087 reached.\n",
      "  warnings.warn(msg, RuntimeWarning)\n"
     ]
    },
    {
     "name": "stdout",
     "output_type": "stream",
     "text": [
      "5800000.0 1501.0635224379948\n"
     ]
    },
    {
     "name": "stderr",
     "output_type": "stream",
     "text": [
      "c:\\users\\antig\\pycharmprojects\\sectionanalysis\\venv\\lib\\site-packages\\scipy\\optimize\\_zeros_py.py:348: RuntimeWarning: Tolerance of 0.2944304662265549 reached.\n",
      "  warnings.warn(msg, RuntimeWarning)\n"
     ]
    },
    {
     "name": "stdout",
     "output_type": "stream",
     "text": [
      "5900000.0 1501.0635224379948\n"
     ]
    },
    {
     "name": "stderr",
     "output_type": "stream",
     "text": [
      "c:\\users\\antig\\pycharmprojects\\sectionanalysis\\venv\\lib\\site-packages\\scipy\\optimize\\_zeros_py.py:348: RuntimeWarning: Tolerance of 0.3180725646121907 reached.\n",
      "  warnings.warn(msg, RuntimeWarning)\n"
     ]
    },
    {
     "name": "stdout",
     "output_type": "stream",
     "text": [
      "6000000.0 1501.0635224379948\n"
     ]
    },
    {
     "name": "stderr",
     "output_type": "stream",
     "text": [
      "c:\\users\\antig\\pycharmprojects\\sectionanalysis\\venv\\lib\\site-packages\\scipy\\optimize\\_zeros_py.py:348: RuntimeWarning: Tolerance of 0.34223132187402494 reached.\n",
      "  warnings.warn(msg, RuntimeWarning)\n"
     ]
    },
    {
     "name": "stdout",
     "output_type": "stream",
     "text": [
      "6100000.0 1501.0635224379948\n"
     ]
    },
    {
     "name": "stderr",
     "output_type": "stream",
     "text": [
      "c:\\users\\antig\\pycharmprojects\\sectionanalysis\\venv\\lib\\site-packages\\scipy\\optimize\\_zeros_py.py:348: RuntimeWarning: Tolerance of 0.3669067380120612 reached.\n",
      "  warnings.warn(msg, RuntimeWarning)\n"
     ]
    },
    {
     "name": "stdout",
     "output_type": "stream",
     "text": [
      "6200000.0 1501.0635224379948\n"
     ]
    },
    {
     "name": "stderr",
     "output_type": "stream",
     "text": [
      "c:\\users\\antig\\pycharmprojects\\sectionanalysis\\venv\\lib\\site-packages\\scipy\\optimize\\_zeros_py.py:348: RuntimeWarning: Tolerance of 0.39209881302629657 reached.\n",
      "  warnings.warn(msg, RuntimeWarning)\n"
     ]
    },
    {
     "name": "stdout",
     "output_type": "stream",
     "text": [
      "6300000.0 1501.0635224379948\n"
     ]
    },
    {
     "name": "stderr",
     "output_type": "stream",
     "text": [
      "c:\\users\\antig\\pycharmprojects\\sectionanalysis\\venv\\lib\\site-packages\\scipy\\optimize\\_zeros_py.py:348: RuntimeWarning: Tolerance of 0.4178075469167253 reached.\n",
      "  warnings.warn(msg, RuntimeWarning)\n"
     ]
    },
    {
     "name": "stdout",
     "output_type": "stream",
     "text": [
      "6400000.0 1501.0635224379948\n"
     ]
    },
    {
     "name": "stderr",
     "output_type": "stream",
     "text": [
      "c:\\users\\antig\\pycharmprojects\\sectionanalysis\\venv\\lib\\site-packages\\scipy\\optimize\\_zeros_py.py:348: RuntimeWarning: Tolerance of 0.44403293968336177 reached.\n",
      "  warnings.warn(msg, RuntimeWarning)\n"
     ]
    },
    {
     "name": "stdout",
     "output_type": "stream",
     "text": [
      "6500000.0 1501.0635224379948\n"
     ]
    },
    {
     "name": "stderr",
     "output_type": "stream",
     "text": [
      "c:\\users\\antig\\pycharmprojects\\sectionanalysis\\venv\\lib\\site-packages\\scipy\\optimize\\_zeros_py.py:348: RuntimeWarning: Tolerance of 0.4707749913261936 reached.\n",
      "  warnings.warn(msg, RuntimeWarning)\n"
     ]
    },
    {
     "name": "stdout",
     "output_type": "stream",
     "text": [
      "6600000.0 1501.0635224379948\n"
     ]
    },
    {
     "name": "stderr",
     "output_type": "stream",
     "text": [
      "c:\\users\\antig\\pycharmprojects\\sectionanalysis\\venv\\lib\\site-packages\\scipy\\optimize\\_zeros_py.py:348: RuntimeWarning: Tolerance of 0.49803370184522433 reached.\n",
      "  warnings.warn(msg, RuntimeWarning)\n"
     ]
    },
    {
     "name": "stdout",
     "output_type": "stream",
     "text": [
      "6700000.0 1501.0635224379948\n"
     ]
    },
    {
     "name": "stderr",
     "output_type": "stream",
     "text": [
      "c:\\users\\antig\\pycharmprojects\\sectionanalysis\\venv\\lib\\site-packages\\scipy\\optimize\\_zeros_py.py:348: RuntimeWarning: Tolerance of 0.525809071240467 reached.\n",
      "  warnings.warn(msg, RuntimeWarning)\n",
      "c:\\users\\antig\\pycharmprojects\\sectionanalysis\\venv\\lib\\site-packages\\scipy\\optimize\\_zeros_py.py:348: RuntimeWarning: Tolerance of 0.5541010995118958 reached.\n",
      "  warnings.warn(msg, RuntimeWarning)\n"
     ]
    },
    {
     "name": "stdout",
     "output_type": "stream",
     "text": [
      "6800000.0 1501.0635224379948\n",
      "6900000.0 1501.0635224379948\n"
     ]
    },
    {
     "name": "stderr",
     "output_type": "stream",
     "text": [
      "c:\\users\\antig\\pycharmprojects\\sectionanalysis\\venv\\lib\\site-packages\\scipy\\optimize\\_zeros_py.py:348: RuntimeWarning: Tolerance of 0.5829097866595314 reached.\n",
      "  warnings.warn(msg, RuntimeWarning)\n"
     ]
    },
    {
     "name": "stdout",
     "output_type": "stream",
     "text": [
      "7000000.0 1501.0635224379948\n"
     ]
    },
    {
     "name": "stderr",
     "output_type": "stream",
     "text": [
      "c:\\users\\antig\\pycharmprojects\\sectionanalysis\\venv\\lib\\site-packages\\scipy\\optimize\\_zeros_py.py:348: RuntimeWarning: Tolerance of 0.6122351326833555 reached.\n",
      "  warnings.warn(msg, RuntimeWarning)\n"
     ]
    },
    {
     "name": "stdout",
     "output_type": "stream",
     "text": [
      "7100000.0 1501.0635224379948\n"
     ]
    },
    {
     "name": "stderr",
     "output_type": "stream",
     "text": [
      "c:\\users\\antig\\pycharmprojects\\sectionanalysis\\venv\\lib\\site-packages\\scipy\\optimize\\_zeros_py.py:348: RuntimeWarning: Tolerance of 0.642077137583392 reached.\n",
      "  warnings.warn(msg, RuntimeWarning)\n",
      "c:\\users\\antig\\pycharmprojects\\sectionanalysis\\venv\\lib\\site-packages\\scipy\\optimize\\_zeros_py.py:348: RuntimeWarning: Tolerance of 0.6724358013596194 reached.\n",
      "  warnings.warn(msg, RuntimeWarning)\n"
     ]
    },
    {
     "name": "stdout",
     "output_type": "stream",
     "text": [
      "7200000.0 1501.0635224379948\n",
      "7300000.0 1501.0635224379948\n"
     ]
    },
    {
     "name": "stderr",
     "output_type": "stream",
     "text": [
      "c:\\users\\antig\\pycharmprojects\\sectionanalysis\\venv\\lib\\site-packages\\scipy\\optimize\\_zeros_py.py:348: RuntimeWarning: Tolerance of 0.7033111240120533 reached.\n",
      "  warnings.warn(msg, RuntimeWarning)\n"
     ]
    },
    {
     "name": "stdout",
     "output_type": "stream",
     "text": [
      "7400000.0 1501.0635224379948\n"
     ]
    },
    {
     "name": "stderr",
     "output_type": "stream",
     "text": [
      "c:\\users\\antig\\pycharmprojects\\sectionanalysis\\venv\\lib\\site-packages\\scipy\\optimize\\_zeros_py.py:348: RuntimeWarning: Tolerance of 0.7347031055406734 reached.\n",
      "  warnings.warn(msg, RuntimeWarning)\n"
     ]
    },
    {
     "name": "stdout",
     "output_type": "stream",
     "text": [
      "7500000.0 1501.0635224379948\n"
     ]
    },
    {
     "name": "stderr",
     "output_type": "stream",
     "text": [
      "c:\\users\\antig\\pycharmprojects\\sectionanalysis\\venv\\lib\\site-packages\\scipy\\optimize\\_zeros_py.py:348: RuntimeWarning: Tolerance of 0.76661174594551 reached.\n",
      "  warnings.warn(msg, RuntimeWarning)\n",
      "c:\\users\\antig\\pycharmprojects\\sectionanalysis\\venv\\lib\\site-packages\\scipy\\optimize\\_zeros_py.py:348: RuntimeWarning: Tolerance of 0.7990370452265365 reached.\n",
      "  warnings.warn(msg, RuntimeWarning)\n"
     ]
    },
    {
     "name": "stdout",
     "output_type": "stream",
     "text": [
      "7600000.0 1501.0635224379948\n",
      "7700000.0 1501.0635224379948\n"
     ]
    },
    {
     "name": "stderr",
     "output_type": "stream",
     "text": [
      "c:\\users\\antig\\pycharmprojects\\sectionanalysis\\venv\\lib\\site-packages\\scipy\\optimize\\_zeros_py.py:348: RuntimeWarning: Tolerance of 0.8319790033837593 reached.\n",
      "  warnings.warn(msg, RuntimeWarning)\n"
     ]
    },
    {
     "name": "stdout",
     "output_type": "stream",
     "text": [
      "7800000.0 1501.0635224379948\n"
     ]
    },
    {
     "name": "stderr",
     "output_type": "stream",
     "text": [
      "c:\\users\\antig\\pycharmprojects\\sectionanalysis\\venv\\lib\\site-packages\\scipy\\optimize\\_zeros_py.py:348: RuntimeWarning: Tolerance of 0.8654376204171947 reached.\n",
      "  warnings.warn(msg, RuntimeWarning)\n"
     ]
    },
    {
     "name": "stdout",
     "output_type": "stream",
     "text": [
      "7900000.0 1501.0635224379948\n"
     ]
    },
    {
     "name": "stderr",
     "output_type": "stream",
     "text": [
      "c:\\users\\antig\\pycharmprojects\\sectionanalysis\\venv\\lib\\site-packages\\scipy\\optimize\\_zeros_py.py:348: RuntimeWarning: Tolerance of 0.899412896326818 reached.\n",
      "  warnings.warn(msg, RuntimeWarning)\n"
     ]
    },
    {
     "name": "stdout",
     "output_type": "stream",
     "text": [
      "8000000.0 1501.0635224379948\n"
     ]
    },
    {
     "name": "stderr",
     "output_type": "stream",
     "text": [
      "c:\\users\\antig\\pycharmprojects\\sectionanalysis\\venv\\lib\\site-packages\\scipy\\optimize\\_zeros_py.py:348: RuntimeWarning: Tolerance of 0.9339048311126354 reached.\n",
      "  warnings.warn(msg, RuntimeWarning)\n"
     ]
    },
    {
     "name": "stdout",
     "output_type": "stream",
     "text": [
      "8100000.0 1501.0635224379948\n"
     ]
    },
    {
     "name": "stderr",
     "output_type": "stream",
     "text": [
      "c:\\users\\antig\\pycharmprojects\\sectionanalysis\\venv\\lib\\site-packages\\scipy\\optimize\\_zeros_py.py:348: RuntimeWarning: Tolerance of 0.9689134247746638 reached.\n",
      "  warnings.warn(msg, RuntimeWarning)\n"
     ]
    },
    {
     "name": "stdout",
     "output_type": "stream",
     "text": [
      "8200000.0 1501.0635224379948\n"
     ]
    },
    {
     "name": "stderr",
     "output_type": "stream",
     "text": [
      "c:\\users\\antig\\pycharmprojects\\sectionanalysis\\venv\\lib\\site-packages\\scipy\\optimize\\_zeros_py.py:348: RuntimeWarning: Tolerance of 1.0044386773129026 reached.\n",
      "  warnings.warn(msg, RuntimeWarning)\n"
     ]
    },
    {
     "name": "stdout",
     "output_type": "stream",
     "text": [
      "8300000.0 1501.0635224379948\n"
     ]
    },
    {
     "name": "stderr",
     "output_type": "stream",
     "text": [
      "c:\\users\\antig\\pycharmprojects\\sectionanalysis\\venv\\lib\\site-packages\\scipy\\optimize\\_zeros_py.py:348: RuntimeWarning: Tolerance of 1.040480588727328 reached.\n",
      "  warnings.warn(msg, RuntimeWarning)\n"
     ]
    },
    {
     "name": "stdout",
     "output_type": "stream",
     "text": [
      "8400000.0 1501.0635224379948\n"
     ]
    },
    {
     "name": "stderr",
     "output_type": "stream",
     "text": [
      "c:\\users\\antig\\pycharmprojects\\sectionanalysis\\venv\\lib\\site-packages\\scipy\\optimize\\_zeros_py.py:348: RuntimeWarning: Tolerance of 1.07703915901795 reached.\n",
      "  warnings.warn(msg, RuntimeWarning)\n"
     ]
    },
    {
     "name": "stdout",
     "output_type": "stream",
     "text": [
      "8500000.0 1501.0635224379948\n"
     ]
    },
    {
     "name": "stderr",
     "output_type": "stream",
     "text": [
      "c:\\users\\antig\\pycharmprojects\\sectionanalysis\\venv\\lib\\site-packages\\scipy\\optimize\\_zeros_py.py:348: RuntimeWarning: Tolerance of 1.1141143881847764 reached.\n",
      "  warnings.warn(msg, RuntimeWarning)\n"
     ]
    },
    {
     "name": "stdout",
     "output_type": "stream",
     "text": [
      "8600000.0 1501.0635224379948\n"
     ]
    },
    {
     "name": "stderr",
     "output_type": "stream",
     "text": [
      "c:\\users\\antig\\pycharmprojects\\sectionanalysis\\venv\\lib\\site-packages\\scipy\\optimize\\_zeros_py.py:348: RuntimeWarning: Tolerance of 1.1517062762277932 reached.\n",
      "  warnings.warn(msg, RuntimeWarning)\n"
     ]
    },
    {
     "name": "stdout",
     "output_type": "stream",
     "text": [
      "8700000.0 1501.0635224379948\n"
     ]
    },
    {
     "name": "stderr",
     "output_type": "stream",
     "text": [
      "c:\\users\\antig\\pycharmprojects\\sectionanalysis\\venv\\lib\\site-packages\\scipy\\optimize\\_zeros_py.py:348: RuntimeWarning: Tolerance of 1.1898148231470185 reached.\n",
      "  warnings.warn(msg, RuntimeWarning)\n"
     ]
    },
    {
     "name": "stdout",
     "output_type": "stream",
     "text": [
      "8800000.0 1501.0635224379948\n"
     ]
    },
    {
     "name": "stderr",
     "output_type": "stream",
     "text": [
      "c:\\users\\antig\\pycharmprojects\\sectionanalysis\\venv\\lib\\site-packages\\scipy\\optimize\\_zeros_py.py:348: RuntimeWarning: Tolerance of 1.228440028942438 reached.\n",
      "  warnings.warn(msg, RuntimeWarning)\n"
     ]
    },
    {
     "name": "stdout",
     "output_type": "stream",
     "text": [
      "8900000.0 1501.0635224379948\n"
     ]
    },
    {
     "name": "stderr",
     "output_type": "stream",
     "text": [
      "c:\\users\\antig\\pycharmprojects\\sectionanalysis\\venv\\lib\\site-packages\\scipy\\optimize\\_zeros_py.py:348: RuntimeWarning: Tolerance of 1.2675818936140573 reached.\n",
      "  warnings.warn(msg, RuntimeWarning)\n"
     ]
    },
    {
     "name": "stdout",
     "output_type": "stream",
     "text": [
      "9000000.0 1501.0635224379948\n"
     ]
    },
    {
     "name": "stderr",
     "output_type": "stream",
     "text": [
      "c:\\users\\antig\\pycharmprojects\\sectionanalysis\\venv\\lib\\site-packages\\scipy\\optimize\\_zeros_py.py:348: RuntimeWarning: Tolerance of 1.3072404171618726 reached.\n",
      "  warnings.warn(msg, RuntimeWarning)\n"
     ]
    },
    {
     "name": "stdout",
     "output_type": "stream",
     "text": [
      "9100000.0 1501.0635224379948\n"
     ]
    },
    {
     "name": "stderr",
     "output_type": "stream",
     "text": [
      "c:\\users\\antig\\pycharmprojects\\sectionanalysis\\venv\\lib\\site-packages\\scipy\\optimize\\_zeros_py.py:348: RuntimeWarning: Tolerance of 1.3474155995859016 reached.\n",
      "  warnings.warn(msg, RuntimeWarning)\n"
     ]
    },
    {
     "name": "stdout",
     "output_type": "stream",
     "text": [
      "9200000.0 1501.0635224379948\n"
     ]
    },
    {
     "name": "stderr",
     "output_type": "stream",
     "text": [
      "c:\\users\\antig\\pycharmprojects\\sectionanalysis\\venv\\lib\\site-packages\\scipy\\optimize\\_zeros_py.py:348: RuntimeWarning: Tolerance of 1.3881074408861127 reached.\n",
      "  warnings.warn(msg, RuntimeWarning)\n"
     ]
    },
    {
     "name": "stdout",
     "output_type": "stream",
     "text": [
      "9300000.0 1501.0635224379948\n"
     ]
    },
    {
     "name": "stderr",
     "output_type": "stream",
     "text": [
      "c:\\users\\antig\\pycharmprojects\\sectionanalysis\\venv\\lib\\site-packages\\scipy\\optimize\\_zeros_py.py:348: RuntimeWarning: Tolerance of 1.4293159410625547 reached.\n",
      "  warnings.warn(msg, RuntimeWarning)\n"
     ]
    },
    {
     "name": "stdout",
     "output_type": "stream",
     "text": [
      "9400000.0 1501.0635224379948\n"
     ]
    },
    {
     "name": "stderr",
     "output_type": "stream",
     "text": [
      "c:\\users\\antig\\pycharmprojects\\sectionanalysis\\venv\\lib\\site-packages\\scipy\\optimize\\_zeros_py.py:348: RuntimeWarning: Tolerance of 1.4710411001151789 reached.\n",
      "  warnings.warn(msg, RuntimeWarning)\n"
     ]
    },
    {
     "name": "stdout",
     "output_type": "stream",
     "text": [
      "9500000.0 1501.0635224379948\n"
     ]
    },
    {
     "name": "stderr",
     "output_type": "stream",
     "text": [
      "c:\\users\\antig\\pycharmprojects\\sectionanalysis\\venv\\lib\\site-packages\\scipy\\optimize\\_zeros_py.py:348: RuntimeWarning: Tolerance of 1.513282918043987 reached.\n",
      "  warnings.warn(msg, RuntimeWarning)\n"
     ]
    },
    {
     "name": "stdout",
     "output_type": "stream",
     "text": [
      "9600000.0 1501.0635224379948\n"
     ]
    },
    {
     "name": "stderr",
     "output_type": "stream",
     "text": [
      "c:\\users\\antig\\pycharmprojects\\sectionanalysis\\venv\\lib\\site-packages\\scipy\\optimize\\_zeros_py.py:348: RuntimeWarning: Tolerance of 1.5560413948490124 reached.\n",
      "  warnings.warn(msg, RuntimeWarning)\n"
     ]
    },
    {
     "name": "stdout",
     "output_type": "stream",
     "text": [
      "9700000.0 1501.0635224379948\n"
     ]
    },
    {
     "name": "stderr",
     "output_type": "stream",
     "text": [
      "c:\\users\\antig\\pycharmprojects\\sectionanalysis\\venv\\lib\\site-packages\\scipy\\optimize\\_zeros_py.py:348: RuntimeWarning: Tolerance of 1.5993165305302355 reached.\n",
      "  warnings.warn(msg, RuntimeWarning)\n"
     ]
    },
    {
     "name": "stdout",
     "output_type": "stream",
     "text": [
      "9800000.0 1501.0635224379948\n",
      "9900000.0 1501.0635224379948\n"
     ]
    },
    {
     "name": "stderr",
     "output_type": "stream",
     "text": [
      "c:\\users\\antig\\pycharmprojects\\sectionanalysis\\venv\\lib\\site-packages\\scipy\\optimize\\_zeros_py.py:348: RuntimeWarning: Tolerance of 1.6431083250876568 reached.\n",
      "  warnings.warn(msg, RuntimeWarning)\n"
     ]
    },
    {
     "data": {
      "text/plain": "    axial_load   total_moment\n0          0.0  222844.600604\n1     100000.0  234906.503987\n2     200000.0  246742.582040\n3     300000.0  258299.910859\n4     400000.0  269518.774164\n..         ...            ...\n95   9500000.0    1501.063522\n96   9600000.0    1501.063522\n97   9700000.0    1501.063522\n98   9800000.0    1501.063522\n99   9900000.0    1501.063522\n\n[100 rows x 2 columns]",
      "text/html": "<div>\n<style scoped>\n    .dataframe tbody tr th:only-of-type {\n        vertical-align: middle;\n    }\n\n    .dataframe tbody tr th {\n        vertical-align: top;\n    }\n\n    .dataframe thead th {\n        text-align: right;\n    }\n</style>\n<table border=\"1\" class=\"dataframe\">\n  <thead>\n    <tr style=\"text-align: right;\">\n      <th></th>\n      <th>axial_load</th>\n      <th>total_moment</th>\n    </tr>\n  </thead>\n  <tbody>\n    <tr>\n      <th>0</th>\n      <td>0.0</td>\n      <td>222844.600604</td>\n    </tr>\n    <tr>\n      <th>1</th>\n      <td>100000.0</td>\n      <td>234906.503987</td>\n    </tr>\n    <tr>\n      <th>2</th>\n      <td>200000.0</td>\n      <td>246742.582040</td>\n    </tr>\n    <tr>\n      <th>3</th>\n      <td>300000.0</td>\n      <td>258299.910859</td>\n    </tr>\n    <tr>\n      <th>4</th>\n      <td>400000.0</td>\n      <td>269518.774164</td>\n    </tr>\n    <tr>\n      <th>...</th>\n      <td>...</td>\n      <td>...</td>\n    </tr>\n    <tr>\n      <th>95</th>\n      <td>9500000.0</td>\n      <td>1501.063522</td>\n    </tr>\n    <tr>\n      <th>96</th>\n      <td>9600000.0</td>\n      <td>1501.063522</td>\n    </tr>\n    <tr>\n      <th>97</th>\n      <td>9700000.0</td>\n      <td>1501.063522</td>\n    </tr>\n    <tr>\n      <th>98</th>\n      <td>9800000.0</td>\n      <td>1501.063522</td>\n    </tr>\n    <tr>\n      <th>99</th>\n      <td>9900000.0</td>\n      <td>1501.063522</td>\n    </tr>\n  </tbody>\n</table>\n<p>100 rows × 2 columns</p>\n</div>"
     },
     "execution_count": 13,
     "metadata": {},
     "output_type": "execute_result"
    }
   ],
   "source": [
    "\n",
    "test_section.generate_slices()\n",
    "axial_loads = np.arange(0, 10000e3, 100000)\n",
    "out = []\n",
    "for axial_load in axial_loads:\n",
    "    test_section.calculate_neutral_axis(axial_load, concrete, reinf_steel)\n",
    "    total_moment = test_section.slices.total_moment.sum()\n",
    "    print(axial_load, total_moment)\n",
    "    out.append({'axial_load': axial_load, 'total_moment': total_moment})\n",
    "interaction_table = pd.DataFrame(out)\n",
    "interaction_table"
   ]
  },
  {
   "cell_type": "code",
   "execution_count": 19,
   "metadata": {},
   "outputs": [
    {
     "data": {
      "text/plain": "<AxesSubplot:xlabel='total_moment', ylabel='axial_load'>"
     },
     "execution_count": 19,
     "metadata": {},
     "output_type": "execute_result"
    },
    {
     "data": {
      "text/plain": "<Figure size 432x288 with 1 Axes>",
      "image/png": "[encoded data removed]"
     },
     "metadata": {
      "needs_background": "light"
     },
     "output_type": "display_data"
    }
   ],
   "source": [
    "sns.scatterplot(\n",
    "    data = interaction_table[interaction_table.axial_load < 0.25e7],\n",
    "    y = 'axial_load',\n",
    "    x = 'total_moment'\n",
    ")"
   ]
  },
  {
   "cell_type": "code",
   "execution_count": null,
   "metadata": {},
   "outputs": [],
   "source": []
  },
  {
   "cell_type": "code",
   "execution_count": null,
   "metadata": {},
   "outputs": [],
   "source": []
  }
 ],
 "metadata": {
  "kernelspec": {
   "display_name": "Python 3 (ipykernel)",
   "language": "python",
   "name": "python3"
  },
  "language_info": {
   "codemirror_mode": {
    "name": "ipython",
    "version": 3
   },
   "file_extension": ".py",
   "mimetype": "text/x-python",
   "name": "python",
   "nbconvert_exporter": "python",
   "pygments_lexer": "ipython3",
   "version": "3.9.12"
  }
 },
 "nbformat": 4,
 "nbformat_minor": 4
}