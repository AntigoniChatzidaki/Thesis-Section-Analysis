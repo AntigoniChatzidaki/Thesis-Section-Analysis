{
 "cells": [
  {
   "cell_type": "code",
   "execution_count": 1,
   "metadata": {
    "pycharm": {
     "is_executing": true
    },
    "scrolled": false
   },
   "outputs": [],
   "source": [
    "import pandas as pd\n",
    "import seaborn as sns\n",
    "import numpy as np\n",
    "\n",
    "import matplotlib.pyplot as plt\n",
    "sns.set_theme()\n",
    "\n",
    "from Materials import Material, Concrete, Steel\n",
    "from Sections import Rectangular, Section, HollowRectangular, HollowCircular"
   ]
  },
  {
   "cell_type": "code",
   "execution_count": 2,
   "metadata": {
    "pycharm": {
     "is_executing": true
    },
    "scrolled": true
   },
   "outputs": [
    {
     "name": "stdout",
     "output_type": "stream",
     "text": [
      "Concrete\n"
     ]
    }
   ],
   "source": [
    "frp = Material('FRP', 600e6, 80e9, 'black')\n",
    "conf_steel = Steel('Confining Steel', 190e9, 355e6, 'blue')\n",
    "reinf_steel = Steel('Reinforcing Steel', 190e9, 500e6, 'black')\n",
    "concrete = Concrete('Concrete', 37e9, 50e6, 'gray',None,conf_steel, 0.5, 3)\n",
    "\n",
    "# test_section = HollowRectangular(concrete, 0.600, 0.600,0.2,0.2,0.20)\n",
    "\n",
    "test_outer_steel = HollowCircular(conf_steel, 0.508, 0.0125, 0.254, 0.254)\n",
    "test_concrete = HollowCircular(concrete, 0.483, 0.105, 0.254, 0.254)\n",
    "test_inner_steel = HollowCircular(conf_steel, 0.273, 0.0063, 0.254, 0.254)\n",
    "\n",
    "test_section = test_outer_steel+test_concrete+ test_inner_steel\n",
    "print(test_section.concrete)\n",
    "# test_section.add_reinforcements(reinf_steel, 0.032, [(0.075,0.075) , (0.525,0.075) , (0.075,0.525) , (0.525,0.525) , (0.225,0.075) , (0.075,0.225) , (0.525,0.225) , (0.225,0.525) , (0.375,0.075) , (0.075,0.375) , (0.375,0.525) , (0.525,0.375)\n",
    "#        ])\n",
    "\n",
    "# test_section = Rectangular(concrete, 0.600, 0.600)\n",
    "\n",
    "# test_outer_steel = HollowRectangular(outer_confining_steel, 0.14, 0.26, 0.1274, 0.2474, 0.0063, 0, 0)\n",
    "# test_concrete = Rectangular(concrete, 0.1274, 0.2474, 0.0063, 0.0063)\n",
    "# test_section = test_outer_steel + test_concrete\n",
    "\n"
   ]
  },
  {
   "cell_type": "code",
   "execution_count": 9,
   "metadata": {
    "pycharm": {
     "is_executing": true
    },
    "scrolled": false
   },
   "outputs": [
    {
     "name": "stdout",
     "output_type": "stream",
     "text": [
      "Neutral axis: 0.4556821004532852\n"
     ]
    },
    {
     "data": {
      "text/html": [
       "<div>\n",
       "<style scoped>\n",
       "    .dataframe tbody tr th:only-of-type {\n",
       "        vertical-align: middle;\n",
       "    }\n",
       "\n",
       "    .dataframe tbody tr th {\n",
       "        vertical-align: top;\n",
       "    }\n",
       "\n",
       "    .dataframe thead th {\n",
       "        text-align: right;\n",
       "    }\n",
       "</style>\n",
       "<table border=\"1\" class=\"dataframe\">\n",
       "  <thead>\n",
       "    <tr style=\"text-align: right;\">\n",
       "      <th></th>\n",
       "      <th>height</th>\n",
       "      <th>mid_height</th>\n",
       "      <th>concrete_area</th>\n",
       "      <th>reinf_steel_area</th>\n",
       "      <th>conf_steel_area</th>\n",
       "      <th>strain</th>\n",
       "      <th>concrete_stress</th>\n",
       "      <th>conf_steel_stress</th>\n",
       "      <th>concrete_force</th>\n",
       "      <th>reinf_steel_force</th>\n",
       "      <th>conf_steel_force</th>\n",
       "      <th>total_force</th>\n",
       "      <th>total_moment</th>\n",
       "    </tr>\n",
       "  </thead>\n",
       "  <tbody>\n",
       "    <tr>\n",
       "      <th>0</th>\n",
       "      <td>0.0005</td>\n",
       "      <td>0.00025</td>\n",
       "      <td>0.0</td>\n",
       "      <td>0.0</td>\n",
       "      <td>0.000010</td>\n",
       "      <td>0.003498</td>\n",
       "      <td>2.833333e+07</td>\n",
       "      <td>3.550000e+08</td>\n",
       "      <td>0.0</td>\n",
       "      <td>0</td>\n",
       "      <td>5062.014917</td>\n",
       "      <td>5062.014917</td>\n",
       "      <td>1284.486285</td>\n",
       "    </tr>\n",
       "    <tr>\n",
       "      <th>1</th>\n",
       "      <td>0.0010</td>\n",
       "      <td>0.00075</td>\n",
       "      <td>0.0</td>\n",
       "      <td>0.0</td>\n",
       "      <td>0.000019</td>\n",
       "      <td>0.003494</td>\n",
       "      <td>2.833333e+07</td>\n",
       "      <td>3.550000e+08</td>\n",
       "      <td>0.0</td>\n",
       "      <td>0</td>\n",
       "      <td>9395.994622</td>\n",
       "      <td>9395.994622</td>\n",
       "      <td>2379.535638</td>\n",
       "    </tr>\n",
       "    <tr>\n",
       "      <th>2</th>\n",
       "      <td>0.0015</td>\n",
       "      <td>0.00125</td>\n",
       "      <td>0.0</td>\n",
       "      <td>0.0</td>\n",
       "      <td>0.000025</td>\n",
       "      <td>0.003490</td>\n",
       "      <td>2.833333e+07</td>\n",
       "      <td>3.550000e+08</td>\n",
       "      <td>0.0</td>\n",
       "      <td>0</td>\n",
       "      <td>12181.078891</td>\n",
       "      <td>12181.078891</td>\n",
       "      <td>3078.767690</td>\n",
       "    </tr>\n",
       "    <tr>\n",
       "      <th>3</th>\n",
       "      <td>0.0020</td>\n",
       "      <td>0.00175</td>\n",
       "      <td>0.0</td>\n",
       "      <td>0.0</td>\n",
       "      <td>0.000030</td>\n",
       "      <td>0.003487</td>\n",
       "      <td>2.833333e+07</td>\n",
       "      <td>3.550000e+08</td>\n",
       "      <td>0.0</td>\n",
       "      <td>0</td>\n",
       "      <td>14427.246131</td>\n",
       "      <td>14427.246131</td>\n",
       "      <td>3639.272837</td>\n",
       "    </tr>\n",
       "    <tr>\n",
       "      <th>4</th>\n",
       "      <td>0.0025</td>\n",
       "      <td>0.00225</td>\n",
       "      <td>0.0</td>\n",
       "      <td>0.0</td>\n",
       "      <td>0.000034</td>\n",
       "      <td>0.003483</td>\n",
       "      <td>2.833333e+07</td>\n",
       "      <td>3.550000e+08</td>\n",
       "      <td>0.0</td>\n",
       "      <td>0</td>\n",
       "      <td>16361.572513</td>\n",
       "      <td>16361.572513</td>\n",
       "      <td>4119.025880</td>\n",
       "    </tr>\n",
       "    <tr>\n",
       "      <th>...</th>\n",
       "      <td>...</td>\n",
       "      <td>...</td>\n",
       "      <td>...</td>\n",
       "      <td>...</td>\n",
       "      <td>...</td>\n",
       "      <td>...</td>\n",
       "      <td>...</td>\n",
       "      <td>...</td>\n",
       "      <td>...</td>\n",
       "      <td>...</td>\n",
       "      <td>...</td>\n",
       "      <td>...</td>\n",
       "      <td>...</td>\n",
       "    </tr>\n",
       "    <tr>\n",
       "      <th>1011</th>\n",
       "      <td>0.5060</td>\n",
       "      <td>0.50575</td>\n",
       "      <td>0.0</td>\n",
       "      <td>0.0</td>\n",
       "      <td>0.000034</td>\n",
       "      <td>-0.000385</td>\n",
       "      <td>0.000000e+00</td>\n",
       "      <td>-7.306663e+07</td>\n",
       "      <td>0.0</td>\n",
       "      <td>0</td>\n",
       "      <td>-3367.563160</td>\n",
       "      <td>-3367.563160</td>\n",
       "      <td>847.784025</td>\n",
       "    </tr>\n",
       "    <tr>\n",
       "      <th>1012</th>\n",
       "      <td>0.5065</td>\n",
       "      <td>0.50625</td>\n",
       "      <td>0.0</td>\n",
       "      <td>0.0</td>\n",
       "      <td>0.000030</td>\n",
       "      <td>-0.000388</td>\n",
       "      <td>0.000000e+00</td>\n",
       "      <td>-7.379630e+07</td>\n",
       "      <td>0.0</td>\n",
       "      <td>0</td>\n",
       "      <td>-2999.091332</td>\n",
       "      <td>-2999.091332</td>\n",
       "      <td>756.520788</td>\n",
       "    </tr>\n",
       "    <tr>\n",
       "      <th>1013</th>\n",
       "      <td>0.5070</td>\n",
       "      <td>0.50675</td>\n",
       "      <td>0.0</td>\n",
       "      <td>0.0</td>\n",
       "      <td>0.000025</td>\n",
       "      <td>-0.000392</td>\n",
       "      <td>0.000000e+00</td>\n",
       "      <td>-7.452598e+07</td>\n",
       "      <td>0.0</td>\n",
       "      <td>0</td>\n",
       "      <td>-2557.202305</td>\n",
       "      <td>-2557.202305</td>\n",
       "      <td>646.332883</td>\n",
       "    </tr>\n",
       "    <tr>\n",
       "      <th>1014</th>\n",
       "      <td>0.5075</td>\n",
       "      <td>0.50725</td>\n",
       "      <td>0.0</td>\n",
       "      <td>0.0</td>\n",
       "      <td>0.000019</td>\n",
       "      <td>-0.000396</td>\n",
       "      <td>0.000000e+00</td>\n",
       "      <td>-7.525565e+07</td>\n",
       "      <td>0.0</td>\n",
       "      <td>0</td>\n",
       "      <td>-1991.835817</td>\n",
       "      <td>-1991.835817</td>\n",
       "      <td>504.432421</td>\n",
       "    </tr>\n",
       "    <tr>\n",
       "      <th>1015</th>\n",
       "      <td>0.5080</td>\n",
       "      <td>0.50775</td>\n",
       "      <td>0.0</td>\n",
       "      <td>0.0</td>\n",
       "      <td>0.000010</td>\n",
       "      <td>-0.000400</td>\n",
       "      <td>0.000000e+00</td>\n",
       "      <td>-7.598533e+07</td>\n",
       "      <td>0.0</td>\n",
       "      <td>0</td>\n",
       "      <td>-1083.489768</td>\n",
       "      <td>-1083.489768</td>\n",
       "      <td>274.935529</td>\n",
       "    </tr>\n",
       "  </tbody>\n",
       "</table>\n",
       "<p>1016 rows × 13 columns</p>\n",
       "</div>"
      ],
      "text/plain": [
       "      height  mid_height  concrete_area  reinf_steel_area  conf_steel_area  \\\n",
       "0     0.0005     0.00025            0.0               0.0         0.000010   \n",
       "1     0.0010     0.00075            0.0               0.0         0.000019   \n",
       "2     0.0015     0.00125            0.0               0.0         0.000025   \n",
       "3     0.0020     0.00175            0.0               0.0         0.000030   \n",
       "4     0.0025     0.00225            0.0               0.0         0.000034   \n",
       "...      ...         ...            ...               ...              ...   \n",
       "1011  0.5060     0.50575            0.0               0.0         0.000034   \n",
       "1012  0.5065     0.50625            0.0               0.0         0.000030   \n",
       "1013  0.5070     0.50675            0.0               0.0         0.000025   \n",
       "1014  0.5075     0.50725            0.0               0.0         0.000019   \n",
       "1015  0.5080     0.50775            0.0               0.0         0.000010   \n",
       "\n",
       "        strain  concrete_stress  conf_steel_stress  concrete_force  \\\n",
       "0     0.003498     2.833333e+07       3.550000e+08             0.0   \n",
       "1     0.003494     2.833333e+07       3.550000e+08             0.0   \n",
       "2     0.003490     2.833333e+07       3.550000e+08             0.0   \n",
       "3     0.003487     2.833333e+07       3.550000e+08             0.0   \n",
       "4     0.003483     2.833333e+07       3.550000e+08             0.0   \n",
       "...        ...              ...                ...             ...   \n",
       "1011 -0.000385     0.000000e+00      -7.306663e+07             0.0   \n",
       "1012 -0.000388     0.000000e+00      -7.379630e+07             0.0   \n",
       "1013 -0.000392     0.000000e+00      -7.452598e+07             0.0   \n",
       "1014 -0.000396     0.000000e+00      -7.525565e+07             0.0   \n",
       "1015 -0.000400     0.000000e+00      -7.598533e+07             0.0   \n",
       "\n",
       "      reinf_steel_force  conf_steel_force   total_force  total_moment  \n",
       "0                     0       5062.014917   5062.014917   1284.486285  \n",
       "1                     0       9395.994622   9395.994622   2379.535638  \n",
       "2                     0      12181.078891  12181.078891   3078.767690  \n",
       "3                     0      14427.246131  14427.246131   3639.272837  \n",
       "4                     0      16361.572513  16361.572513   4119.025880  \n",
       "...                 ...               ...           ...           ...  \n",
       "1011                  0      -3367.563160  -3367.563160    847.784025  \n",
       "1012                  0      -2999.091332  -2999.091332    756.520788  \n",
       "1013                  0      -2557.202305  -2557.202305    646.332883  \n",
       "1014                  0      -1991.835817  -1991.835817    504.432421  \n",
       "1015                  0      -1083.489768  -1083.489768    274.935529  \n",
       "\n",
       "[1016 rows x 13 columns]"
      ]
     },
     "execution_count": 9,
     "metadata": {},
     "output_type": "execute_result"
    }
   ],
   "source": [
    "test_section.generate_slices()\n",
    "# test_section.slices.reinf_steel_area.sum()\n",
    "test_section.calculate_neutral_axis(4.6, 10e6, 100000, 0.0125,0.508) # TODO\n",
    "print(\"Neutral axis:\", test_section.neutral_axis)\n",
    "test_section.slices.to_csv(\"output.csv\")\n",
    "test_section.slices\n",
    "\n"
   ]
  },
  {
   "cell_type": "code",
   "execution_count": 10,
   "metadata": {
    "pycharm": {
     "is_executing": true
    },
    "scrolled": true
   },
   "outputs": [
    {
     "name": "stdout",
     "output_type": "stream",
     "text": [
      "{Confining Steel: {'Ixx': 0.0006444468153245565, 'Iyy': 0.0006444468153245565, 'Ixy': -4.089007436570798e-19}, Concrete: {'Ixx': 0.002398616975380691, 'Iyy': 0.002398616975380691, 'Ixy': 1.0076824512869324e-19}}\n",
      "Characteristic force plastic: 15015283.36[N]\n",
      "Design Force Plastic: 12313807.92 [N]\n",
      "Relative Slenderness: 0.46[-]\n",
      "e/d: 0.02[-]\n",
      "eta_a: 1.37[-]\n",
      "eta_c: 0.00[-]\n"
     ]
    }
   ],
   "source": [
    "print(test_section.second_moments_of_area)\n",
    "print(f\"Characteristic force plastic: {test_section.characteristic_force_plastic:.2f}[N]\")\n",
    "print(f\"Design Force Plastic: {(test_section.slices.concrete_area.sum() * concrete.design_strength + test_section.slices.reinf_steel_area.sum() * reinf_steel.characteristic_strength/1.15 + test_section.slices.conf_steel_area.sum() * conf_steel.characteristic_strength):.2f} [N]\")\n",
    "\n",
    "if test_section.conf_steel is not None:\n",
    "    print(f\"Relative Slenderness: {test_section.relative_slenderness:.2f}[-]\")\n",
    "    print(f\"e/d: {test_section.eccentricity_depth:.2f}[-]\")\n",
    "    print(f\"eta_a: {test_section.confined_factor_h_a:.2f}[-]\")\n",
    "    print(f\"eta_c: {test_section.confined_factor_h_c:.2f}[-]\")\n",
    "\n",
    "\n"
   ]
  },
  {
   "cell_type": "code",
   "execution_count": 5,
   "metadata": {
    "pycharm": {
     "is_executing": true
    },
    "scrolled": false
   },
   "outputs": [
    {
     "name": "stdout",
     "output_type": "stream",
     "text": [
      "Sum Moment: 1346869.94 Nm\n",
      "Sum Concrete Area: 0.124683 m^2\n",
      "Sum Steel Area: 0.000000 m^2\n",
      "Sum Steel Area: 0.024736 m^2\n",
      "Sum Force: 0.39 Nm\n",
      "Total Force: 0.39 Nm\n",
      "Ratio of reinforcement area to concrete area(ρs): 0.1984 -\n",
      "Maximum Design Plastic Resistance (Axial Force): 12313807.92 N\n",
      "Characteristic Plastic Resistance (Axial Force): 15015283.36 N\n"
     ]
    }
   ],
   "source": [
    "print(f\"Sum Moment: {test_section.slices.total_moment.sum():.2f} Nm\")\n",
    "print(f\"Sum Concrete Area: {test_section.slices.concrete_area.sum():.6f} m^2\")\n",
    "print(f\"Sum Steel Area: {test_section.slices.reinf_steel_area.sum():.6f} m^2\")\n",
    "print(f\"Sum Steel Area: {test_section.slices.conf_steel_area.sum():.6f} m^2\")\n",
    "print(f\"Sum Force: {test_section.slices.total_force.sum():.2f} Nm\")\n",
    "print(f\"Total Force: {test_section.slices.total_force.sum():.2f} Nm\")\n",
    "print(f\"Ratio of reinforcement area to concrete area(ρs): {(test_section.slices.reinf_steel_area.sum() + test_section.slices.conf_steel_area.sum())  / test_section.slices.concrete_area.sum():.4f} -\")\n",
    "\n",
    "# For reinforced sections\n",
    "print(f\"Maximum Design Plastic Resistance (Axial Force): {(test_section.slices.concrete_area.sum() * concrete.design_strength + test_section.slices.reinf_steel_area.sum() * reinf_steel.characteristic_strength/1.15 + test_section.slices.conf_steel_area.sum() * conf_steel.characteristic_strength):.2f} N\")\n",
    "print(f\"Characteristic Plastic Resistance (Axial Force): {(test_section.slices.concrete_area.sum() * concrete.characteristic_strength + test_section.slices.reinf_steel_area.sum() * reinf_steel.characteristic_strength + test_section.slices.conf_steel_area.sum() * conf_steel.characteristic_strength):.2f} N\")\n"
   ]
  },
  {
   "cell_type": "code",
   "execution_count": 6,
   "metadata": {
    "pycharm": {
     "is_executing": true
    },
    "scrolled": false
   },
   "outputs": [
    {
     "name": "stderr",
     "output_type": "stream",
     "text": [
      "c:\\users\\antig\\pycharmprojects\\sectionanalysis\\venv\\lib\\site-packages\\descartes\\patch.py:62: ShapelyDeprecationWarning: The array interface is deprecated and will no longer work in Shapely 2.0. Convert the '.coords' to a numpy array instead.\n",
      "  vertices = concatenate([\n",
      "c:\\users\\antig\\pycharmprojects\\sectionanalysis\\venv\\lib\\site-packages\\descartes\\patch.py:64: ShapelyDeprecationWarning: The array interface is deprecated and will no longer work in Shapely 2.0. Convert the '.coords' to a numpy array instead.\n",
      "  [asarray(r)[:, :2] for r in t.interiors])\n"
     ]
    },
    {
     "data": {
      "image/png": "[encoded data removed]",
      "text/plain": [
       "<Figure size 1152x288 with 4 Axes>"
      ]
     },
     "metadata": {},
     "output_type": "display_data"
    }
   ],
   "source": [
    "\n",
    "# left  = 0.125  # the left side of the subplots of the figure\n",
    "# right = 0.125    # the right side of the subplots of the figure\n",
    "# bottom = 0.1   # the bottom of the subplots of the figure\n",
    "# top = 0.9      # the top of the subplots of the figure\n",
    "# wspace = 0.2   # the amount of width reserved for blank space between subplots\n",
    "# hspace = 0.2   # the amount of height reserved for white space between subplots\n",
    "\n",
    "fig, axs = plt.subplots(1, 4, sharey=True, squeeze=True, figsize=(16, 4))\n",
    "                       \n",
    "axs[0].invert_yaxis()\n",
    "axs[0].set_ylim(0,0.6)\n",
    "axs[0].set_xlim(0,0.6)\n",
    "axs[0].invert_yaxis()\n",
    "\n",
    "slices = test_section.slices\n",
    "test_section.plot(axs[0])\n",
    "\n",
    "for ax in axs:\n",
    "    ax.axhline(test_section.neutral_axis, color='red')\n",
    "\n",
    "axs[1].plot(\n",
    "    slices.strain,\n",
    "    slices.mid_height,\n",
    "    color='blue'\n",
    "    \n",
    ")\n",
    "\n",
    "axs[1].fill_betweenx(\n",
    "    slices.mid_height,0,slices.strain,\n",
    "    \n",
    ")\n",
    "\n",
    "axs[2].plot(\n",
    "    slices.concrete_force,\n",
    "    slices.mid_height,\n",
    "    label = \"Concrete force\"\n",
    ")\n",
    "\n",
    "axs[2].plot(\n",
    "    slices.conf_steel_force,\n",
    "    slices.mid_height,\n",
    "    label = \"Confining steel force\"\n",
    ")\n",
    "\n",
    "axs[2].plot(\n",
    "    slices.reinf_steel_force,\n",
    "    slices.mid_height,\n",
    "    label = \"Reinforcing steel force\"\n",
    ")\n",
    "axs[2].legend()\n",
    "\n",
    "    \n",
    "\n",
    "\n",
    "axs[3].plot(\n",
    "    slices.total_moment,\n",
    "    slices.mid_height,\n",
    "    label = \"Total Moment\"\n",
    "\n",
    ")\n",
    "axs[3].legend()\n",
    "\n",
    "# set the spacing between subplots\n",
    "plt.subplots_adjust(left=0.1,\n",
    "                    bottom=0.1, \n",
    "                    right=1, \n",
    "                    top=0.9, \n",
    "                    wspace=0.1, \n",
    "                    hspace=0.3)\n",
    "# [ax.set_aspect('equal') for ax in axs.ravel()]\n",
    "\n",
    "plt.savefig(\"600-Level00- Test - Max N.svg\", format=\"svg\")"
   ]
  },
  {
   "cell_type": "code",
   "execution_count": 7,
   "metadata": {
    "pycharm": {
     "is_executing": true
    },
    "scrolled": false
   },
   "outputs": [],
   "source": [
    "# test_section.generate_slices()\n",
    "# axial_loads = np.arange(0, 10366755, 100e3)\n",
    "# out = []\n",
    "# for axial_load in axial_loads:\n",
    "#     test_section.calculate_neutral_axis(axial_load, concrete, outer_confining_steel) # TODO\n",
    "#     total_moment = test_section.slices.total_moment.sum()\n",
    "#     print(axial_load, total_moment)\n",
    "#     out.append({'axial_load': axial_load, 'total_moment': total_moment})\n",
    "# interaction_table = pd.DataFrame(out)\n",
    "# interaction_table"
   ]
  },
  {
   "cell_type": "code",
   "execution_count": null,
   "metadata": {
    "pycharm": {
     "is_executing": true
    },
    "scrolled": true
   },
   "outputs": [],
   "source": [
    "# #interaction_table['axial_load_kn'] = interaction_table.axial_load / 1e3\n",
    "# interaction_table_kn = interaction_table / 1e3\n",
    "# g = sns.lineplot(\n",
    "#     data = interaction_table_kn,\n",
    "#     y = 'axial_load',\n",
    "#     x = 'total_moment',\n",
    "#     sort=False\n",
    "# )\n",
    "# g.set_xlabel(\"Moment [kNm]\")\n",
    "# g.set_ylabel(\"Axial Load [kN]\")\n",
    "# g.set_ylim([0, None])\n",
    "# g.set_xlim([0, None])"
   ]
  },
  {
   "cell_type": "code",
   "execution_count": null,
   "metadata": {
    "pycharm": {
     "is_executing": true
    }
   },
   "outputs": [],
   "source": []
  },
  {
   "cell_type": "raw",
   "metadata": {},
   "source": [
    "# test_section.polygons[concrete].interiors[10]\n",
    "\n",
    "# x = list(test_section.polygons[concrete].exterior.coords)\n",
    "# print(x)\n",
    "# list(zip(x, x[1:] + [x[0]]))\n",
    "\n",
    "# # For single confinement\n",
    "# print(f\"Maximum Design Design Plastic Resistance/ Axial Force - confinement: {outer_confining_steel .strength * test_section.slices.Steel_area.sum() + concrete.design_strength * test_section.slices.Concrete_area.sum():.2f} N\")\n",
    "\n",
    "# print(f\"Characteristic value of Plastic Resistance/ Axial Force - confinement: {outer_confining_steel .strength * test_section.slices.Steel_area.sum() + concrete.design_strength * 1.5 * test_section.slices.Concrete_area.sum():.2f} N\")\n",
    "\n",
    "# # # For double confinement\n",
    "# # print(f\"Maximum Design Design Plastic Resistance/ Axial Force - confinement: {outer_confining_steel .strength * test_section.slices.Steel_area.sum() + concrete.design_strength * test_section.slices.Concrete_area.sum() + inner_confining_steel.strength * test_section.slices.Steel_area.sum():.2f} N\")\n",
    "\n",
    "# # print(f\"Characteristic value of Plastic Resistance/ Axial Force - confinement: {outer_confining_steel .strength * test_section.slices.Steel_area.sum() + concrete.design_strength * 1.5 * test_section.slices.Concrete_area.sum() + inner_confining_steel.strength * test_section.slices.Steel_area.sum():.2f} N\")\n",
    "\n",
    "\n",
    "# # For single confinement + reinf\n",
    "# print(f\"Maximum Design Design Plastic Resistance/ Axial Force - confinement: {reinf_steel.strength/1.15 * test_section.slices.Steel_area.sum()+outer_confining_steel .strength * test_section.slices.Steel_area.sum() + concrete.design_strength * test_section.slices.Concrete_area.sum():.2f} N\")\n",
    "\n",
    "# print(f\"Characteristic value of Plastic Resistance/ Axial Force - confinement: {outer_confining_steel .strength * test_section.slices.Steel_area.sum() + concrete.design_strength * 1.5 * test_section.slices.Concrete_area.sum():.2f} N\")\n",
    "\n"
   ]
  },
  {
   "cell_type": "code",
   "execution_count": null,
   "metadata": {
    "pycharm": {
     "is_executing": true
    }
   },
   "outputs": [],
   "source": []
  },
  {
   "cell_type": "code",
   "execution_count": null,
   "metadata": {
    "pycharm": {
     "is_executing": true
    }
   },
   "outputs": [],
   "source": []
  },
  {
   "cell_type": "code",
   "execution_count": null,
   "metadata": {
    "pycharm": {
     "is_executing": true
    }
   },
   "outputs": [],
   "source": []
  }
 ],
 "metadata": {
  "kernelspec": {
   "display_name": "Python 3 (ipykernel)",
   "language": "python",
   "name": "python3"
  },
  "language_info": {
   "codemirror_mode": {
    "name": "ipython",
    "version": 3
   },
   "file_extension": ".py",
   "mimetype": "text/x-python",
   "name": "python",
   "nbconvert_exporter": "python",
   "pygments_lexer": "ipython3",
   "version": "3.9.12"
  }
 },
 "nbformat": 4,
 "nbformat_minor": 4
}